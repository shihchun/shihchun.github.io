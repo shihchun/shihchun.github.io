{
  "nbformat": 4,
  "nbformat_minor": 0,
  "metadata": {
    "colab": {
      "name": "bassic.ipynb",
      "provenance": [],
      "collapsed_sections": [],
      "toc_visible": true
    },
    "kernelspec": {
      "name": "python3",
      "display_name": "Python 3"
    }
  },
  "cells": [
    {
      "cell_type": "markdown",
      "metadata": {
        "id": "bOG1ZSnLuVMK",
        "colab_type": "text"
      },
      "source": [
        "`ctrl`+`]`：收起全部\n",
        "`ctrl`+`[`：打開全部\n",
        "\n",
        "基礎不討論算法\n"
      ]
    },
    {
      "cell_type": "markdown",
      "metadata": {
        "id": "thHc21slEQ8a",
        "colab_type": "text"
      },
      "source": [
        "# Day1"
      ]
    },
    {
      "cell_type": "code",
      "metadata": {
        "id": "g88EeWy0c_X_",
        "colab_type": "code",
        "colab": {}
      },
      "source": [
        "# # clear all variable in python\n",
        "# import sys\n",
        "# sys.modules[__name__].__dict__.clear()"
      ],
      "execution_count": 0,
      "outputs": []
    },
    {
      "cell_type": "markdown",
      "metadata": {
        "id": "FJ9kGKkEFB8t",
        "colab_type": "text"
      },
      "source": [
        "## 篩選資料\n",
        "- 一般想法\n",
        "- filter 函數\n",
        "- 列表解析式（list comprehension）似乎最快\n",
        "\n",
        "##速度測試\n",
        "\n",
        "當然一般在計算上的時候如果用的電腦比較好可能可以測到幾ms的計算速度，大概速度差個10倍左右。\n"
      ]
    },
    {
      "cell_type": "code",
      "metadata": {
        "id": "f3ph2o1BEMYO",
        "colab_type": "code",
        "outputId": "a1947bab-7f0a-4250-a0c9-64b3be990f51",
        "colab": {
          "base_uri": "https://localhost:8080/",
          "height": 51
        }
      },
      "source": [
        "# 一般想法 篩選掉負數\n",
        "import timeit\n",
        "!timeit?\n",
        "data = [1,5,-3,-2,6,8,9]\n",
        "res = []\n",
        "for x in data:\n",
        "  if x >= 0:\n",
        "    res.append(x) # 把x加入res這個list裏面（list append）\n",
        "    pass\n",
        "  pass\n",
        "print(res)\n",
        "\n",
        "# 執行時間測試\n",
        "def test():\n",
        "  res = []\n",
        "  for x in data:\n",
        "    if x >= 0:\n",
        "      res.append(x) # 把x加入res這個list裏面（list append）\n",
        "      pass\n",
        "    pass\n",
        "  return res\n",
        "  pass\n",
        "\n",
        "t = timeit.timeit(test, number=10000)\n",
        "print(\"執行時間：%f 秒\" % t)\n",
        "\n",
        "del t, res,x ,data, timeit, test"
      ],
      "execution_count": 0,
      "outputs": [
        {
          "output_type": "stream",
          "text": [
            "[1, 5, 6, 8, 9]\n",
            "執行時間：0.006917 秒\n"
          ],
          "name": "stdout"
        }
      ]
    },
    {
      "cell_type": "code",
      "metadata": {
        "id": "R_OiyTvEwiag",
        "colab_type": "code",
        "outputId": "09af4069-855c-4e07-f4da-8c342b178b74",
        "colab": {
          "base_uri": "https://localhost:8080/",
          "height": 34
        }
      },
      "source": [
        "# filter 濾出奇數\n",
        "# filter(fcn, iterable) == > filter(is_odd, data)\n",
        "# 將data每個元素帶到is_odd中，留下返回的\n",
        "!filter?\n",
        "def is_odd(n):\n",
        "  return n % 2 == 1 # 返回 True or False\n",
        "\n",
        "newlist = filter(is_odd, [1, 2, 3, 4, 5, 6, 7, 8, 9, 10])\n",
        "print(list(newlist))\n",
        "\n",
        "del is_odd"
      ],
      "execution_count": 0,
      "outputs": [
        {
          "output_type": "stream",
          "text": [
            "[1, 3, 5, 7, 9]\n"
          ],
          "name": "stdout"
        }
      ]
    },
    {
      "cell_type": "code",
      "metadata": {
        "id": "3XszYiiYEQc7",
        "colab_type": "code",
        "outputId": "7ed19cae-d16a-4b51-a026-163e0d654fdd",
        "colab": {
          "base_uri": "https://localhost:8080/",
          "height": 68
        }
      },
      "source": [
        "# 使用filter 篩選掉負數\n",
        "from random import randint\n",
        "import timeit\n",
        "!randint?\n",
        "data = [randint(-10, 10) for _ in range(10)] # list comprehension\n",
        "new = filter(lambda x: x >= 0 , data)\n",
        "# 從data中的每個元素x來判斷，x>=0的資料，\n",
        "# filter(fcn, iterable)，fcn是匿名函數\n",
        "# 匿名函數除了Linux C以外大部分的新語言都有，已經是一個很普遍使用的方法\n",
        "\n",
        "print(new,\"\\n\",list(new)) # python3不能直接print，python2可以，聽說節省了內存\n",
        "\n",
        "# 執行時間測試\n",
        "def test():\n",
        "  return [randint(-10, 10) for _ in range(10)]\n",
        "  pass\n",
        "\n",
        "t = timeit.timeit(test, number=10000)\n",
        "print(\"執行時間：%f 秒\" % t)\n",
        "\n",
        "del data, new, t, randint, timeit, test"
      ],
      "execution_count": 0,
      "outputs": [
        {
          "output_type": "stream",
          "text": [
            "<filter object at 0x7fc5456b86d8> \n",
            " [0, 5, 6, 9, 8, 4, 7]\n",
            "執行時間：0.129839 秒\n"
          ],
          "name": "stdout"
        }
      ]
    },
    {
      "cell_type": "code",
      "metadata": {
        "id": "Q24tbOFwH_I4",
        "colab_type": "code",
        "outputId": "f73fb69d-1fb4-4d35-a537-149d3a59e3de",
        "colab": {
          "base_uri": "https://localhost:8080/",
          "height": 51
        }
      },
      "source": [
        "# 列表解析（list comprehension） 篩選掉負數\n",
        "from random import randint\n",
        "import timeit\n",
        "data = [randint(-10, 10) for _ in range(10)] # xrange是python2用的\n",
        "new = [x for x in data if x >= 0]\n",
        "print(new)\n",
        "\n",
        "# 執行時間測試\n",
        "def test():\n",
        "  return [x for x in data if x >= 0]\n",
        "  pass\n",
        "\n",
        "t = timeit.timeit(test, number=10000)\n",
        "print(\"執行時間：%f 秒\" % t)\n",
        "\n",
        "del t, data, new, timeit, randint, test"
      ],
      "execution_count": 0,
      "outputs": [
        {
          "output_type": "stream",
          "text": [
            "[3, 4, 6, 3, 0]\n",
            "執行時間：0.006602 秒\n"
          ],
          "name": "stdout"
        }
      ]
    },
    {
      "cell_type": "markdown",
      "metadata": {
        "id": "bEBsW-PhP6fX",
        "colab_type": "text"
      },
      "source": [
        "## Python上的解析方式\n",
        "\n",
        "- 列表解析（list comprehension） `[77,78,79]`\n",
        "- 字典解析（dict comprehension） `{'我':12,'K.Gracia':100}`\n",
        "- 集合解析（set comprehension） `{77,79,79}`\n",
        "- 元組（tuple） `('a','b','c')`"
      ]
    },
    {
      "cell_type": "markdown",
      "metadata": {
        "id": "iDUbfeeaMf5b",
        "colab_type": "text"
      },
      "source": [
        "  列表和字典解析使用的陳述句用的i、j、k之類的執行結束會自行del掉"
      ]
    },
    {
      "cell_type": "code",
      "metadata": {
        "id": "ZaYLH52iQODj",
        "colab_type": "code",
        "outputId": "5263d365-efca-40f4-8149-ce8481c4c97f",
        "colab": {
          "base_uri": "https://localhost:8080/",
          "height": 139
        }
      },
      "source": [
        "# 字典解析\n",
        "# 假設20人隨機產生分數60~100分\n",
        "from random import randint\n",
        "d = {x: randint(60, 100) for x in range(1,21)} # range(20)的話會從零開始0~19\n",
        "\n",
        "print('產生的字典\\n',d,'\\n解析結果：\\n',d.items()) # python2用d.iteritems()來解析出資料\n",
        "  \n",
        "# 篩選出大於90分，然後再寫成之前的字典形式（dict）\n",
        "Largethan = {k: v for k, v in d.items() if v > 90} # (k,v)就是dict_items下面的兩個元素\n",
        "\n",
        "print('大於90分\\n',Largethan)\n",
        "\n",
        "del Largethan, d, randint"
      ],
      "execution_count": 0,
      "outputs": [
        {
          "output_type": "stream",
          "text": [
            "產生的字典\n",
            " {1: 67, 2: 91, 3: 82, 4: 60, 5: 89, 6: 82, 7: 65, 8: 85, 9: 100, 10: 65, 11: 80, 12: 88, 13: 64, 14: 65, 15: 87, 16: 97, 17: 71, 18: 79, 19: 80, 20: 98} \n",
            "解析結果：\n",
            " dict_items([(1, 67), (2, 91), (3, 82), (4, 60), (5, 89), (6, 82), (7, 65), (8, 85), (9, 100), (10, 65), (11, 80), (12, 88), (13, 64), (14, 65), (15, 87), (16, 97), (17, 71), (18, 79), (19, 80), (20, 98)])\n",
            "大於90分\n",
            " {2: 91, 9: 100, 16: 97, 20: 98}\n"
          ],
          "name": "stdout"
        }
      ]
    },
    {
      "cell_type": "code",
      "metadata": {
        "id": "CG9pWekmajWe",
        "colab_type": "code",
        "outputId": "771fa725-073a-4cb6-ce88-7e979869f4e1",
        "colab": {
          "base_uri": "https://localhost:8080/",
          "height": 119
        }
      },
      "source": [
        "# 集合解析\n",
        "from random import randint\n",
        "data = [randint(-10, 10) for _ in range(10)] # 建立列表（list）\n",
        "\n",
        "s = set(data) # 建立集合（set）\n",
        "# 找集合裏面可以被3整除的元素\n",
        "newS = {x for x in s if x%3 ==0 }\n",
        "print('資料\\n',data,'\\n集合\\n',s,'\\n篩選可以被3整除的集合\\n', newS)\n",
        "\n",
        "del data, s , newS, randint"
      ],
      "execution_count": 0,
      "outputs": [
        {
          "output_type": "stream",
          "text": [
            "資料\n",
            " [-5, -7, 2, -1, -7, 2, -2, -9, 5, -2] \n",
            "集合\n",
            " {2, 5, -2, -9, -7, -5, -1} \n",
            "篩選可以被3整除的集合\n",
            " {-9}\n"
          ],
          "name": "stdout"
        }
      ]
    },
    {
      "cell_type": "markdown",
      "metadata": {
        "id": "NTX-hHtjdXQw",
        "colab_type": "text"
      },
      "source": [
        "## 增加可讀性\n",
        "\n",
        "- 原始\n",
        "- 枚舉\n",
        "- 元組 namedtuple數據結構\n",
        "\n",
        "在C語言裏面是這個樣子解決這類問題的，Java的想法也類似：\n",
        "\n",
        "```c\n",
        "#define NAME 0\n",
        "#define AGE 1\n",
        "\n",
        "enum Student { /*枚舉*/\n",
        "  NAME,\n",
        "  AGE,\n",
        "  SEX\n",
        "}\n",
        "\n",
        "name = Student[NAME]\n",
        "```\n",
        "\n",
        "Java 也是類似：\n",
        "\n",
        "```java\n",
        "enum Student { /*枚舉*/\n",
        "  NAME,\n",
        "  AGE,\n",
        "  SEX\n",
        "}\n",
        "  \n",
        "Student[] creatures = {Student.NAME, Student.AGE};\n",
        "```"
      ]
    },
    {
      "cell_type": "code",
      "metadata": {
        "id": "60owENG8di70",
        "colab_type": "code",
        "outputId": "2a801eb9-17f5-4556-fa72-705a1531bc04",
        "colab": {
          "base_uri": "https://localhost:8080/",
          "height": 34
        }
      },
      "source": [
        "# 通常似乎很繁瑣的判斷寫法\n",
        "\n",
        "student = ('Mike', 16, 'male', 'grama8722@mail.edu.tw')\n",
        "\n",
        "# 找 name\n",
        "print(student[0]) # mike\n",
        "\n",
        "# 找 age\n",
        "if student[1] >= 18:\n",
        "  # some condition\n",
        "  pass\n",
        "\n",
        "# 找性別sex\n",
        "if student[2] == 'male':\n",
        "  # some condition\n",
        "  pass\n",
        "\n",
        "del student"
      ],
      "execution_count": 0,
      "outputs": [
        {
          "output_type": "stream",
          "text": [
            "Mike\n"
          ],
          "name": "stdout"
        }
      ]
    },
    {
      "cell_type": "code",
      "metadata": {
        "id": "67-Sta3khrum",
        "colab_type": "code",
        "outputId": "f737776e-1e57-4ea1-b680-23210c3e4f67",
        "colab": {
          "base_uri": "https://localhost:8080/",
          "height": 34
        }
      },
      "source": [
        "# 用枚舉的方式\n",
        "\n",
        "# NAME = 0; AGE = 1; SEX = 2; EMAIL = 3;\n",
        "NAME, AGE, SEX, EMAIL = range(4) # 簡單寫法\n",
        "\n",
        "student = ('Mike', 16, 'male', 'grama8722@mail.edu.tw')\n",
        "\n",
        "# 找 name\n",
        "print(student[NAME]) # Mike\n",
        "\n",
        "# 找 age\n",
        "if student[AGE] >= 18:\n",
        "  # some condition\n",
        "  pass\n",
        "\n",
        "# 找性別sex\n",
        "if student[SEX] == 'male':\n",
        "  # some condition\n",
        "  pass\n",
        "\n",
        "del student, NAME, AGE, SEX, EMAIL\n",
        "# NAME, AGE, SEX, EMAIL 會在記憶體裡面"
      ],
      "execution_count": 0,
      "outputs": [
        {
          "output_type": "stream",
          "text": [
            "Mike\n"
          ],
          "name": "stdout"
        }
      ]
    },
    {
      "cell_type": "code",
      "metadata": {
        "id": "v-fRCwLDi0cY",
        "colab_type": "code",
        "outputId": "18b77790-e7d1-484e-924f-a01b3708b377",
        "colab": {
          "base_uri": "https://localhost:8080/",
          "height": 122
        }
      },
      "source": [
        "# 元組 namedtuple 數據結構\n",
        "from collections import namedtuple # import collections.namedtuple\n",
        "Student = namedtuple('Student', ['name','age','sex','email'])\n",
        "s = Student('Mike', 16, 'male', 'grama8722@mail.edu.tw')\n",
        "print(s,'\\nNAME: s.name\\n', s.name,'\\nAGE: s.age\\n', s.age)\n",
        "isinstance(s, tuple) # s是否爲元組 ==> True 所以namedtuple返回確實是元組\n",
        "\n",
        "del s, Student, namedtuple"
      ],
      "execution_count": 0,
      "outputs": [
        {
          "output_type": "stream",
          "text": [
            "Student(name='Mike', age=16, sex='male', email='grama8722@mail.edu.tw') \n",
            "NAME: s.name\n",
            " Mike \n",
            "AGE: s.age\n",
            " 16\n"
          ],
          "name": "stdout"
        }
      ]
    },
    {
      "cell_type": "markdown",
      "metadata": {
        "id": "FwTalE3AaLq8",
        "colab_type": "text"
      },
      "source": [
        "# Day2"
      ]
    },
    {
      "cell_type": "markdown",
      "metadata": {
        "id": "0qKSK8u9aRfw",
        "colab_type": "text"
      },
      "source": [
        "## 找到公共鍵（key）\n",
        "\n",
        "公共鍵指在多個字典裏面存在相同的鍵（key）\n",
        "\n",
        "在下面的字典中其中`me`和`K.Gracia`就是鍵（key）\n",
        "\n",
        "```json\n",
        "{'me':12,'K.Gracia':100}\n",
        "```\n",
        "- 一般寫loop找\n",
        "- 使用集合（set）的方式\n",
        "- 使用map reduce更快的找到公共鍵\n",
        "\n",
        "集合下面可以使用\n",
        "\n",
        "- python3 s.items、s.keys、s.values\n",
        "- python2 s.viewitems、s.viewkeys、s.viewvalues\n",
        "\n",
        "> 在Python寫loop的判斷運算元跟java、c、js不太一樣，ex: '||'要用'or'\n",
        "\n",
        "| Operator (other languages) | Operator (Python) |\n",
        "|----------------------------|-------------------|\n",
        "| &&                         | and               |\n",
        "| ||                         | or                |\n",
        "| !                          | not               |\n",
        "\n",
        "- [reduce](https://openhome.cc/Gossip/CodeData/PythonTutorial/FunctionalProgrammingPy3.html)\n",
        "![](https://openhome.cc/Gossip/CodeData/PythonTutorial/images/FunctionalProgrammingPy3-1.gif)\n",
        "\n"
      ]
    },
    {
      "cell_type": "code",
      "metadata": {
        "id": "SGqFl3zXbKBi",
        "colab_type": "code",
        "outputId": "bdbe8beb-b5b6-4ee7-ba34-e6a9caae70ea",
        "colab": {
          "base_uri": "https://localhost:8080/",
          "height": 275
        }
      },
      "source": [
        "from random import randint, sample\n",
        "sample('abcdefg',3) # 隨機在abcdefg中產生3個sample\n",
        "sample('abcdefg',randint(3,6)) # 隨機在abcdefg中產生3~6個sample\n",
        "\n",
        "# 假設由abcdefg個球員名稱，每一輪的進球數是1~4\n",
        "# { for x in sample('abcdefg',randint(3,6)) } \n",
        "# { x: randint(1,4) for x in sample('abcdefg',randint(3,6)) }\n",
        "\n",
        "s1 = { x: randint(1,4) for x in sample('abcdefg',randint(3,6)) } #第一輪\n",
        "s2 = { x: randint(1,4) for x in sample('abcdefg',randint(3,6)) } #第二輪\n",
        "s3 = { x: randint(1,4) for x in sample('abcdefg',randint(3,6)) } #第三輪\n",
        "print(\"\\n\",s1,\"\\n\",s2,\"\\n\",s3)\n",
        "\n",
        "\n",
        "\n",
        "## 一般找公共鍵\n",
        "res = [];\n",
        "for k in s1:\n",
        "  if k in s2 and k in s3:\n",
        "    res.append(k)\n",
        "    pass\n",
        "  pass\n",
        "print(\"Loop找公共鍵： \",res)\n",
        "del k\n",
        "## 使用集合（set）的方式找 直接用 & 或是 |\n",
        "print('集合操作：\\n',s1.keys(),'\\n',s2.keys(),'\\n',s3.keys())# python2用 s1.viewkeys()\n",
        "print(s1.keys() & s2.keys() & s3.keys())\n",
        "\n",
        "## 如果\"很多集合\"裏面找，可以使用map、reduce\n",
        "\n",
        "mapp = map(dict.keys,[s1,s2,s3]) # <map at 0x7f92df970278>\n",
        "print(\"map得到： \\n\", list(mapp))\n",
        "\n",
        "from functools import reduce # functools.reduce\n",
        "redd = reduce(lambda a, b: a & b, map(dict.keys,[s1,s2,s3]))\n",
        "print(\"reduce得到\\n\", redd)\n",
        "# 其中 lambda a, b: a & b ==> 前個結果a跟下個結果b交集\n",
        "\n",
        "del redd, reduce, mapp, s1, s2, s3, res, randint, sample"
      ],
      "execution_count": 0,
      "outputs": [
        {
          "output_type": "stream",
          "text": [
            "\n",
            " {'g': 3, 'd': 2, 'a': 3, 'b': 3, 'c': 1, 'e': 1} \n",
            " {'g': 3, 'd': 3, 'a': 2, 'b': 1} \n",
            " {'g': 4, 'a': 3, 'c': 1, 'e': 1}\n",
            "Loop找公共鍵：  ['g', 'a']\n",
            "集合操作：\n",
            " dict_keys(['g', 'd', 'a', 'b', 'c', 'e']) \n",
            " dict_keys(['g', 'd', 'a', 'b']) \n",
            " dict_keys(['g', 'a', 'c', 'e'])\n",
            "{'a', 'g'}\n",
            "map得到： \n",
            " [dict_keys(['g', 'd', 'a', 'b', 'c', 'e']), dict_keys(['g', 'd', 'a', 'b']), dict_keys(['g', 'a', 'c', 'e'])]\n",
            "reduce得到\n",
            " {'a', 'g'}\n"
          ],
          "name": "stdout"
        }
      ]
    },
    {
      "cell_type": "markdown",
      "metadata": {
        "id": "YQ3LeCxvqXdC",
        "colab_type": "text"
      },
      "source": [
        "## 字典排序\n",
        "\n",
        "希望字典按照輸入順序排序。\n",
        "\n",
        "使用`collection`.`OrdereDict`(python2)"
      ]
    },
    {
      "cell_type": "code",
      "metadata": {
        "id": "SvWg2CpHu2Gq",
        "colab_type": "code",
        "outputId": "34b15748-9173-496f-81d7-27411b652dff",
        "colab": {
          "base_uri": "https://localhost:8080/",
          "height": 68
        }
      },
      "source": [
        "# OrderDict特性 （python2需要）\n",
        "# from collections import OrderedDict\n",
        "# d = OrderedDict()\n",
        "d = {}\n",
        "d['Jim'] = (1, 35)\n",
        "d['Leo'] = (5, 356)\n",
        "d['Bob'] = (3, 37)\n",
        "for k in d: \n",
        "  print(k) # 會按照輸入順序\n",
        "  pass\n",
        "\n",
        "del d, k"
      ],
      "execution_count": 0,
      "outputs": [
        {
          "output_type": "stream",
          "text": [
            "Jim\n",
            "Leo\n",
            "Bob\n"
          ],
          "name": "stdout"
        }
      ]
    },
    {
      "cell_type": "markdown",
      "metadata": {
        "id": "VQsFbX0S0blu",
        "colab_type": "text"
      },
      "source": [
        "## 製作歷史記錄（history log）\n",
        "\n",
        "下面可以發現，如果執行次數多了速度就會變慢很多。"
      ]
    },
    {
      "cell_type": "code",
      "metadata": {
        "id": "c6hJw6fowIwB",
        "colab_type": "code",
        "outputId": "35c9e5b0-48a6-41c5-d90b-c4fb92105a77",
        "colab": {
          "base_uri": "https://localhost:8080/",
          "height": 255
        }
      },
      "source": [
        "import time\n",
        "from random import randint\n",
        "\n",
        "players = list('ABCDEFGH') # 8個player\n",
        "start = time.time()\n",
        "\n",
        "for i in range(1,8): # 執行7次\n",
        "  #input(\"：第%d次：\"% i)\n",
        "  p = players.pop( randint( 0,7-i ) ) # 從列表刪除pop(i)第i個元素，p爲取出的元素\n",
        "  end = time.time()\n",
        "  print(i, '刪除： ',p , '取出元素執行時間：', (end-start)*1000,\"ms\")\n",
        "  print('列表變爲：', players)\n",
        "  pass\n",
        "\n",
        "del players, p, end, start, randint, time"
      ],
      "execution_count": 0,
      "outputs": [
        {
          "output_type": "stream",
          "text": [
            "1 刪除：  D 取出元素執行時間： 0.13208389282226562 ms\n",
            "列表變爲： ['A', 'B', 'C', 'E', 'F', 'G', 'H']\n",
            "2 刪除：  A 取出元素執行時間： 0.4990100860595703 ms\n",
            "列表變爲： ['B', 'C', 'E', 'F', 'G', 'H']\n",
            "3 刪除：  C 取出元素執行時間： 1.9695758819580078 ms\n",
            "列表變爲： ['B', 'E', 'F', 'G', 'H']\n",
            "4 刪除：  G 取出元素執行時間： 2.1789073944091797 ms\n",
            "列表變爲： ['B', 'E', 'F', 'H']\n",
            "5 刪除：  B 取出元素執行時間： 5.982160568237305 ms\n",
            "列表變爲： ['E', 'F', 'H']\n",
            "6 刪除：  F 取出元素執行時間： 6.778240203857422 ms\n",
            "列表變爲： ['E', 'H']\n",
            "7 刪除：  E 取出元素執行時間： 6.931304931640625 ms\n",
            "列表變爲： ['H']\n"
          ],
          "name": "stdout"
        }
      ]
    },
    {
      "cell_type": "markdown",
      "metadata": {
        "id": "V0ovwlUdI15r",
        "colab_type": "text"
      },
      "source": [
        "在python 裏面有一個`collection.deque`的庫可以使用。\n",
        "\n",
        "例如`deque([],5)`則可以記錄5個數列更改之前的五個元素。\n",
        "\n",
        "將其實體化`d = deque([],5)`，直接使用再append數列的時候同時也對其append即可。"
      ]
    },
    {
      "cell_type": "code",
      "metadata": {
        "id": "OzGdarY_Iyc7",
        "colab_type": "code",
        "outputId": "9d5dbaf6-2c87-42a5-82c0-5af4602bb07c",
        "colab": {
          "base_uri": "https://localhost:8080/",
          "height": 68
        }
      },
      "source": [
        "from collections import deque\n",
        "d = deque([],5)\n",
        "a = [1,2,3,4,5]\n",
        "d.extend(a) # append list中的所有元素時，使用extend\n",
        "print(d)\n",
        "d.append(9) # 對[1,2,3,4,5]再append一個 '1'\n",
        "print(d) # 可以發現只剩下五個元素，第一個append的1不會顯示，剩下五個歷史記錄\n",
        "#要使用直接使用 list(d) 可以直接使用數列\n",
        "print(list(d))\n",
        "\n",
        "del d, deque, a"
      ],
      "execution_count": 0,
      "outputs": [
        {
          "output_type": "stream",
          "text": [
            "deque([1, 2, 3, 4, 5], maxlen=5)\n",
            "deque([2, 3, 4, 5, 9], maxlen=5)\n",
            "[2, 3, 4, 5, 9]\n"
          ],
          "name": "stdout"
        }
      ]
    },
    {
      "cell_type": "markdown",
      "metadata": {
        "id": "9kN0hi4FKa4b",
        "colab_type": "text"
      },
      "source": [
        "若需要在下面加入歷史記錄的話"
      ]
    },
    {
      "cell_type": "code",
      "metadata": {
        "id": "L5ppUgUzKiH_",
        "colab_type": "code",
        "outputId": "9ff1a1cd-b1ea-491b-9338-b9f88e37f655",
        "colab": {
          "base_uri": "https://localhost:8080/",
          "height": 68
        }
      },
      "source": [
        "from random import randint\n",
        "N = randint(0,5)\n",
        "print(\"答案: \",N)\n",
        "\n",
        "def guess(k):\n",
        "  if k == N:\n",
        "    print(\"猜對\")\n",
        "    return True\n",
        "  if k < N:\n",
        "    print(\"N比%s還要大\" % k)\n",
        "  else:\n",
        "    print(\"N比%s還要小\" % k)\n",
        "  return False\n",
        "\n",
        "while True:\n",
        "  line = input(\"請輸入一個數字： \")\n",
        "  if line.isdigit():\n",
        "    k = int(line)\n",
        "    if guess(k): # 執行guess function，猜對跳出\n",
        "      break\n",
        "      pass\n",
        "    pass\n",
        "  pass\n",
        "\n",
        "del k, line, N, randint, guess"
      ],
      "execution_count": 0,
      "outputs": [
        {
          "output_type": "stream",
          "text": [
            "答案:  0\n",
            "請輸入一個數字： 0\n",
            "猜對\n"
          ],
          "name": "stdout"
        }
      ]
    },
    {
      "cell_type": "code",
      "metadata": {
        "id": "vObD5x0AMy2p",
        "colab_type": "code",
        "outputId": "b5547603-a2b2-4a68-b776-82cbe96943e8",
        "colab": {
          "base_uri": "https://localhost:8080/",
          "height": 340
        }
      },
      "source": [
        "# 加入deque歷史記錄\n",
        "\n",
        "from random import randint\n",
        "from collections import deque\n",
        "'''\n",
        "使用pikle的話可以將寫好的資料dump成檔案並儲存\n",
        "要用的時候可一在別的檔案透過路徑的方式讀取。\n",
        "類似寫程式的時候把資料存到txt裏面再讀取出來，不過那要writeline\n",
        "一行一行寫與讀取，這個不用\n",
        "'''\n",
        "import pickle\n",
        "# qq = pickle.load(open('history')) # 讀取儲存結果\n",
        "# qq = pickle.dump(q, open('history','w')) # 儲存結果\n",
        "\n",
        "N = randint(0,20)\n",
        "history = deque([],5)\n",
        "print(\"答案: \",N)\n",
        "\n",
        "def guess(k):\n",
        "  if k == N:\n",
        "    print(\"猜對\")\n",
        "    return True\n",
        "  if k < N:\n",
        "    print(\"N比%s還要大\" % k)\n",
        "  else:\n",
        "    print(\"N比%s還要小\" % k)\n",
        "  return False\n",
        "\n",
        "while True:\n",
        "  line = input(\"請輸入一個數字： \")\n",
        "  if line.isdigit():\n",
        "    k = int(line)\n",
        "    history.append(k) # 每次輸入一個數字就加入history裏面\n",
        "    if guess(k): # 執行guess function，猜對跳出\n",
        "      break\n",
        "  elif line == 'history' or line == 'h?':\n",
        "    print( list(history) )\n",
        "    pass\n",
        "  pass\n",
        "\n",
        "del history, line, k, N, pickle, deque, randint, guess"
      ],
      "execution_count": 0,
      "outputs": [
        {
          "output_type": "stream",
          "text": [
            "答案:  17\n",
            "請輸入一個數字： 11\n",
            "N比11還要大\n",
            "請輸入一個數字： 12\n",
            "N比12還要大\n",
            "請輸入一個數字： 14\n",
            "N比14還要大\n",
            "請輸入一個數字： 18\n",
            "N比18還要小\n",
            "請輸入一個數字： 19\n",
            "N比19還要小\n",
            "請輸入一個數字： h?\n",
            "[11, 12, 14, 18, 19]\n",
            "請輸入一個數字： 13\n",
            "N比13還要大\n",
            "請輸入一個數字： h?\n",
            "[12, 14, 18, 19, 13]\n",
            "請輸入一個數字： 17\n",
            "猜對\n"
          ],
          "name": "stdout"
        }
      ]
    },
    {
      "cell_type": "markdown",
      "metadata": {
        "id": "jWmnL01fPGtR",
        "colab_type": "text"
      },
      "source": [
        "# Day 3\n",
        "\n"
      ]
    },
    {
      "cell_type": "markdown",
      "metadata": {
        "id": "wP7j7OcnSZib",
        "colab_type": "text"
      },
      "source": [
        "## 疊代\n",
        "\n",
        "iter(x)可以檢查一個東西是否可疊代，iter()可以找到疊代器。\n",
        "\n"
      ]
    },
    {
      "cell_type": "code",
      "metadata": {
        "id": "AqaNqaaQSZCz",
        "colab_type": "code",
        "outputId": "ad371329-0bfd-441d-a9bd-943df0a57f24",
        "colab": {
          "base_uri": "https://localhost:8080/",
          "height": 187
        }
      },
      "source": [
        "L = [1,2,3,4]\n",
        "s = 'abcdefghijk'\n",
        "print( '疊代器存在：\\n L: ', iter(L),'\\n s: ', iter(s) ) # 都可以list跟char都可疊代\n",
        "print( '疊代可實體化：\\n L: ', L.__iter__(),'\\n s: ', s.__iter__() ) \n",
        "\n",
        "## next()協議在python3變成__next__()\n",
        "it = iter(L)\n",
        "# print( it.__next__() ) # 第0個元素\n",
        "# print( it.__next__() ) # 第1個元素\n",
        "# print( it.__next__() ) # 第2個元素\n",
        "# print( it.__next__() ) # 第3個元素\n",
        "# print( it.__next__() ) # 返回StopIteration 然後條錯誤\n",
        "\n",
        "for _ in range(len(L)):\n",
        "  print(it.__next__())\n",
        "  pass\n",
        "\n",
        "del it, L, s"
      ],
      "execution_count": 0,
      "outputs": [
        {
          "output_type": "stream",
          "text": [
            "疊代器存在：\n",
            " L:  <list_iterator object at 0x7fc54684b9b0> \n",
            " s:  <str_iterator object at 0x7fc54684bd30>\n",
            "疊代可實體化：\n",
            " L:  <list_iterator object at 0x7fc54684bd30> \n",
            " s:  <str_iterator object at 0x7fc54684b1d0>\n",
            "1\n",
            "2\n",
            "3\n",
            "4\n"
          ],
          "name": "stdout"
        }
      ]
    },
    {
      "cell_type": "markdown",
      "metadata": {
        "id": "Dw4oDatuTeq_",
        "colab_type": "text"
      },
      "source": [
        "## curl或是request接收\n",
        "\n",
        "[apis](https://rapidapi.com/collection/top-weather-apis)\n",
        "\n",
        "可以參考其他的api拿到對他們的網址伺服器發出get請求，可以返回資料，然後使用python將其轉換成json的格式，可以對這些資料做類似字典的操作。\n",
        "\n",
        "這類操作常常要看文檔以及他們的一些檔案格式來做調整。\n",
        "\n",
        "對HTML內容進行GET請求並且將資料拿下來成JSON之類的可分析格式就是爬蟲了。"
      ]
    },
    {
      "cell_type": "code",
      "metadata": {
        "id": "FyYXKHm0StV_",
        "colab_type": "code",
        "outputId": "7b617e16-1159-4440-e359-7d2a4d3e04c1",
        "colab": {
          "base_uri": "https://localhost:8080/",
          "height": 51
        }
      },
      "source": [
        "# curl \"http://wthrcdn.etouch.cn/weather_mini?city=\" ## shell命令\n",
        "import requests\n",
        "def getWeather(city): \n",
        "  r = requests.get(u'http://wthrcdn.etouch.cn/weather_mini?city=' + city)\n",
        "  data = r.json()['data']['yesterday']\n",
        "  #print(\"資料：\",r.json())\n",
        "  #print(\"昨天資料：\",r.json()['data']['yesterday'])\n",
        "  return '%s: %s, %s' % (city, data['low'], data['high'])\n",
        "\n",
        "print(getWeather(u'北京'))\n",
        "print(getWeather(u'上海'))\n",
        "\n",
        "del requests\n",
        "# function只會返回return的東西喔， 所以r、data都被清掉了"
      ],
      "execution_count": 0,
      "outputs": [
        {
          "output_type": "stream",
          "text": [
            "北京: 低温 3℃, 高温 16℃\n",
            "上海: 低温 14℃, 高温 20℃\n"
          ],
          "name": "stdout"
        }
      ]
    },
    {
      "cell_type": "code",
      "metadata": {
        "id": "FVK4QDwyyjFQ",
        "colab_type": "code",
        "outputId": "5ca3c06d-a0b9-4f50-9605-30d69b81615c",
        "colab": {
          "base_uri": "https://localhost:8080/",
          "height": 34
        }
      },
      "source": [
        "# 舉個例子，一般是用api的時候會長這樣\n",
        "import requests\n",
        "\n",
        "url = \"https://weatherbit-v1-mashape.p.rapidapi.com/current\"\n",
        "\n",
        "querystring = {\"lang\":\"en\",\"lon\":\"<required>\",\"lat\":\"<required>\"}\n",
        "\n",
        "headers = {\n",
        "    'x-rapidapi-host': \"weatherbit-v1-mashape.p.rapidapi.com\",\n",
        "    'x-rapidapi-key': \"SIGN-UP-FOR-KEY\"\n",
        "    } ## 一般的api都需要有api key，通常是需要一些付費或是需要註冊帳號的\n",
        "## 自己在自己的電腦寫網頁php、django、tornado、expressJS之類的編寫，也可以透過這個方法得到返回值\n",
        "\n",
        "response = requests.request(\"GET\", url, headers=headers, params=querystring)\n",
        "\n",
        "print(response)\n",
        "\n",
        "del response, headers, querystring, url, requests"
      ],
      "execution_count": 0,
      "outputs": [
        {
          "output_type": "stream",
          "text": [
            "<Response [401]>\n"
          ],
          "name": "stdout"
        }
      ]
    },
    {
      "cell_type": "markdown",
      "metadata": {
        "id": "fBWr5Q1iz28F",
        "colab_type": "text"
      },
      "source": [
        "## 封裝（使用疊代器）\n",
        "\n",
        "可疊代->批次\n",
        "\n",
        "首先瞭解什麼是[疊代器](https://www.kawabangga.com/posts/2772)，在Python中所有的loop疊代，例如for之類的都是透過所謂的next協議去做出來的，包括現在常常被使用的ES6 javascript也是，所以我們可以透過使用疊代器，減少記憶體的使用，因爲Python是一個執行效率不太高的語言。\n",
        "\n",
        "[Python vs C](https://benchmarksgame-team.pages.debian.net/benchmarksgame/fastest/python3-gcc.html)，看完大概就知道使用這個的原因，而且很多框架（framework）也是直接調用next疊代協議（iterator protocol），所以瞭解一點對寫Python會有很多的幫助。"
      ]
    },
    {
      "cell_type": "code",
      "metadata": {
        "id": "1HN-w5_Hz7u3",
        "colab_type": "code",
        "outputId": "1ac79f2c-d519-459c-9b9b-f70638d9276b",
        "colab": {
          "base_uri": "https://localhost:8080/",
          "height": 51
        }
      },
      "source": [
        "## 將之前使用的API做封裝成 可疊代物件\n",
        "import requests\n",
        "from collections import Iterable, Iterator\n",
        "\n",
        "class WeatherIterator(Iterator): ##疊代器\n",
        "  def __init__(self, cities): ## 設定index和cities\n",
        "    self.cities = cities\n",
        "    self.index = 0\n",
        "    pass\n",
        "  \n",
        "  def getWeather(self, city): ## 拿資料\n",
        "    r = requests.get(u'http://wthrcdn.etouch.cn/weather_mini?city=' + city)\n",
        "    data = r.json()['data']['yesterday']\n",
        "    return '%s: %s, %s' % (city, data['low'], data['high'])\n",
        "  \n",
        "  def __next__(self): ## next()在python3變成__next__()\n",
        "    if self.index == len(self.cities):\n",
        "      raise StopIteration ## 錯誤處理 riase（引發）StopIteration錯誤（pyton內建）\n",
        "      pass\n",
        "    city = self.cities[self.index]\n",
        "    self.index += 1\n",
        "    return self.getWeather(city)\n",
        "  \n",
        "class WeatherIterable(Iterable): ## 可以疊代物件\n",
        "  def __init__(self,cities):\n",
        "    self.cities = cities\n",
        "    pass\n",
        "  \n",
        "  def __iter__(self):\n",
        "    return WeatherIterator(self.cities)\n",
        "  \n",
        "## 封裝完畢，實體化來使用，可以對它疊代、批次處理\n",
        "for x in WeatherIterable([u'北京',u'上海']):\n",
        "  print(x)\n",
        "  pass\n",
        "\n",
        "del x, Iterable, Iterator, requests"
      ],
      "execution_count": 0,
      "outputs": [
        {
          "output_type": "stream",
          "text": [
            "北京: 低温 3℃, 高温 16℃\n",
            "上海: 低温 14℃, 高温 20℃\n"
          ],
          "name": "stdout"
        }
      ]
    },
    {
      "cell_type": "markdown",
      "metadata": {
        "id": "6ngOkGq_Qgyj",
        "colab_type": "text"
      },
      "source": [
        "## 錯誤處理\n",
        "\n",
        "- 基本\n",
        "- 錯誤判斷處理\n",
        "- 自己定義錯誤類型"
      ]
    },
    {
      "cell_type": "code",
      "metadata": {
        "id": "qxYtId6qfq-g",
        "colab_type": "code",
        "outputId": "e9bb6637-4e39-4808-cf50-77478397ebb9",
        "colab": {
          "base_uri": "https://localhost:8080/",
          "height": 34
        }
      },
      "source": [
        "# Ex1: 基本\n",
        "try:\n",
        "   raise TypeError\n",
        "except TypeError:\n",
        "  print('TypeError')"
      ],
      "execution_count": 0,
      "outputs": [
        {
          "output_type": "stream",
          "text": [
            "TypeError\n"
          ],
          "name": "stdout"
        }
      ]
    },
    {
      "cell_type": "code",
      "metadata": {
        "id": "iVVlnuyQf0CW",
        "colab_type": "code",
        "outputId": "bc70747d-4900-48a5-a52e-959c88e86a41",
        "colab": {
          "base_uri": "https://localhost:8080/",
          "height": 34
        }
      },
      "source": [
        "# Ex2: 錯誤判斷處理\n",
        "def mye( level ):\n",
        "  if level < 1:\n",
        "    raise Traceback('Hi~Hi') \n",
        "    # 這裏拋出 Traceback不是內建的，會顯示'is not defined'\n",
        "    # 就沒有，印出我們想要定義的錯誤類型\n",
        "    \n",
        "    print(\"這裏不執行\")\n",
        "    ## 下面是其中一些python有的錯誤類型，下面的程式不執行\n",
        "    raise TypeError('Hi')\n",
        "    raise ValueError(\"Hi\") \n",
        "    raise NameError('Hi')\n",
        "    raise ZeroDivisionError('Hi')\n",
        "    pass\n",
        "  \n",
        "  pass\n",
        "\n",
        "#mye(0) # 會raise拋出錯誤，error會顯示我們定義的錯誤\n",
        "\n",
        "try: # 在c java是try catch、foreach多載之類，用法差不多\n",
        "  mye( 0 )\n",
        "except Exception as err: # print出所有錯誤\n",
        "  print(\"44321\",\"Erro {}\".format(err))\n",
        "  pass\n",
        "\n",
        "del mye"
      ],
      "execution_count": 0,
      "outputs": [
        {
          "output_type": "stream",
          "text": [
            "44321 Erro name 'Traceback' is not defined\n"
          ],
          "name": "stdout"
        }
      ]
    },
    {
      "cell_type": "code",
      "metadata": {
        "id": "03nIzeE9pCFu",
        "colab_type": "code",
        "outputId": "b3f677ed-de38-4173-e129-4cb75b39ea3e",
        "colab": {
          "base_uri": "https://localhost:8080/",
          "height": 51
        }
      },
      "source": [
        "# Ex3： 自己定義錯誤類型\n",
        "class Networkerror(RuntimeError):\n",
        "  def __init__(self, arg):\n",
        "    self.name = \"Networkerror\"\n",
        "    self.args = arg\n",
        "    pass\n",
        "  pass\n",
        "pass\n",
        "\n",
        "        \n",
        "try:\n",
        "  raise Networkerror(\"Bad hostname\")\n",
        "except Networkerror as err:\n",
        "  print(\"Err \",err.name, '\\n',err. args)  # 作用一樣 \"Erro {}\".format(err))\n",
        "  pass\n",
        "\n",
        "del Networkerror"
      ],
      "execution_count": 0,
      "outputs": [
        {
          "output_type": "stream",
          "text": [
            "Err  Networkerror \n",
            " ('B', 'a', 'd', ' ', 'h', 'o', 's', 't', 'n', 'a', 'm', 'e')\n"
          ],
          "name": "stdout"
        }
      ]
    },
    {
      "cell_type": "markdown",
      "metadata": {
        "id": "XAgaswVNqlEJ",
        "colab_type": "text"
      },
      "source": [
        "# Day 4"
      ]
    },
    {
      "cell_type": "markdown",
      "metadata": {
        "id": "r2egXnvgrB5D",
        "colab_type": "text"
      },
      "source": [
        "## yield 產生器（Generator）來做疊代器\n",
        "\n",
        "- yield 產生器使用方法\n",
        "- yield 產生器做成可以疊代的物件"
      ]
    },
    {
      "cell_type": "code",
      "metadata": {
        "id": "2IxKFttYr3LQ",
        "colab_type": "code",
        "outputId": "f8cafba5-71d7-43eb-a6d5-0189228c8590",
        "colab": {
          "base_uri": "https://localhost:8080/",
          "height": 136
        }
      },
      "source": [
        "## 介紹 Python yield Generator 疊代方法\n",
        "\n",
        "def f(): # Generator Fcn 這個可以疊代\n",
        "  print('執行 yield 1')\n",
        "  yield 1\n",
        "  print('執行 yield 2')\n",
        "  yield 2\n",
        "  print('執行 yield 3')\n",
        "  yield 3\n",
        "  pass\n",
        "g = f()\n",
        "\n",
        "# print( g.__next__() )\n",
        "# print( g.__next__() )\n",
        "# print( g.__next__() )\n",
        "# print( g.__next__() ) # StopIteration會錯誤，跟之前一樣可以用產生器（Generator）器去做\n",
        "\n",
        "# # 第一種\n",
        "# for _ in range(3):\n",
        "#   print( g.__next__() )\n",
        "#   pass\n",
        "\n",
        "# 可以寫成\n",
        "for x in g:\n",
        "  print(x)\n",
        "  pass\n",
        "\n",
        "print( g.__iter__() is g ) # True =>由於g可以作爲g.__iter__()來調用\n",
        "\n",
        "del x, g, f\n"
      ],
      "execution_count": 0,
      "outputs": [
        {
          "output_type": "stream",
          "text": [
            "執行 yield 1\n",
            "1\n",
            "執行 yield 2\n",
            "2\n",
            "執行 yield 3\n",
            "3\n",
            "True\n"
          ],
          "name": "stdout"
        }
      ]
    },
    {
      "cell_type": "code",
      "metadata": {
        "id": "vTjwU2oK3KJA",
        "colab_type": "code",
        "outputId": "f72be067-bf49-4049-e6dd-222824d0ba36",
        "colab": {
          "base_uri": "https://localhost:8080/",
          "height": 54
        }
      },
      "source": [
        "class PrimeNumbers:\n",
        "  def __init__(self, start, end): # 建構子\n",
        "    self.start = start\n",
        "    self.end = end\n",
        "    pass\n",
        "  \n",
        "  def isPrimeNum(self, k):\n",
        "    for i in range(2, k):\n",
        "      if k%i == 0: # k mod i == 0\n",
        "        return False\n",
        "      return True\n",
        "    pass\n",
        "  \n",
        "  def __iter__(self): # 疊代器\n",
        "    for k in range(self.start, self.end + 1):\n",
        "      if self.isPrimeNum(k):\n",
        "        yield k\n",
        "        pass # pass if pass可以不寫\n",
        "      pass # pass for\n",
        "    pass # pass fcn\n",
        "  pass # pass class\n",
        "\n",
        "# 測試封裝完的class\n",
        "y = []\n",
        "for x in PrimeNumbers(1,100):\n",
        "  y.append(x)\n",
        "  pass\n",
        "print(y)\n",
        "\n",
        "del y, x, PrimeNumbers"
      ],
      "execution_count": 0,
      "outputs": [
        {
          "output_type": "stream",
          "text": [
            "[3, 5, 7, 9, 11, 13, 15, 17, 19, 21, 23, 25, 27, 29, 31, 33, 35, 37, 39, 41, 43, 45, 47, 49, 51, 53, 55, 57, 59, 61, 63, 65, 67, 69, 71, 73, 75, 77, 79, 81, 83, 85, 87, 89, 91, 93, 95, 97, 99]\n"
          ],
          "name": "stdout"
        }
      ]
    },
    {
      "cell_type": "markdown",
      "metadata": {
        "id": "-22eYQzz59j-",
        "colab_type": "text"
      },
      "source": [
        "## 反向疊代"
      ]
    },
    {
      "cell_type": "code",
      "metadata": {
        "id": "bLG0wAC663ZS",
        "colab_type": "code",
        "outputId": "fd28fe04-e9b8-4e1d-c889-7c4cbbb5fbd5",
        "colab": {
          "base_uri": "https://localhost:8080/",
          "height": 68
        }
      },
      "source": [
        "# 反向疊代\n",
        "\n",
        "L = [1,2,3,4,5]\n",
        "\n",
        "print( 'L[::-1]: ', L[::-1] ) # 會得到新列表到記憶體\n",
        "\n",
        "# reversed() 只有多一個疊代器，不會多一個列表，較好\n",
        "print( reversed(L) )\n",
        "y = []\n",
        "for _ in reversed(L):\n",
        "  y.append(_)\n",
        "  pass\n",
        "print(y)\n",
        "\n",
        "del y, _, L"
      ],
      "execution_count": 0,
      "outputs": [
        {
          "output_type": "stream",
          "text": [
            "L[::-1]:  [5, 4, 3, 2, 1]\n",
            "<list_reverseiterator object at 0x7fc545fe4400>\n",
            "[5, 4, 3, 2, 1]\n"
          ],
          "name": "stdout"
        }
      ]
    },
    {
      "cell_type": "code",
      "metadata": {
        "id": "2bUvjRHr8lBY",
        "colab_type": "code",
        "outputId": "44311821-e550-481d-890a-992af621c661",
        "colab": {
          "base_uri": "https://localhost:8080/",
          "height": 51
        }
      },
      "source": [
        "## 寫成物件範例\n",
        "\n",
        "class FloatRange:\n",
        "  def __init__(self, start, end, step=0.1): ## 建構子\n",
        "    self.start = start; self.end = end; self.step = step;\n",
        "    pass\n",
        "  \n",
        "  def __iter__(self):\n",
        "    t = self.start\n",
        "    while t <= self.end:\n",
        "      yield t\n",
        "      t += self.step\n",
        "      pass\n",
        "    pass\n",
        "  \n",
        "  def __reversed__(self):\n",
        "    t = self.end\n",
        "    while t >= self.start:\n",
        "      yield t\n",
        "      t -= self.step\n",
        "      pass\n",
        "    pass\n",
        "  pass\n",
        "\n",
        "# 測試封裝完的class\n",
        "\n",
        "# 正序\n",
        "y = []\n",
        "for x in FloatRange(1.0, 4.0, 0.5):\n",
        "  y.append(x)\n",
        "  pass\n",
        "print(y)\n",
        "\n",
        "# 反序\n",
        "y = []\n",
        "for x in reversed( FloatRange(1.0, 4.0, 0.5) ):\n",
        "  y.append(x)\n",
        "  pass\n",
        "\n",
        "print(y)\n",
        "\n",
        "del y, x, FloatRange"
      ],
      "execution_count": 0,
      "outputs": [
        {
          "output_type": "stream",
          "text": [
            "[1.0, 1.5, 2.0, 2.5, 3.0, 3.5, 4.0]\n",
            "[4.0, 3.5, 3.0, 2.5, 2.0, 1.5, 1.0]\n"
          ],
          "name": "stdout"
        }
      ]
    },
    {
      "cell_type": "markdown",
      "metadata": {
        "id": "Ddv_Y9TgA4xd",
        "colab_type": "text"
      },
      "source": [
        "## 文件讀取\n",
        "\n",
        "- ope().readlines() 把每個row存到列表中\n"
      ]
    },
    {
      "cell_type": "code",
      "metadata": {
        "id": "gM65uzv6_DzP",
        "colab_type": "code",
        "outputId": "22b713f4-1730-4b77-94e3-f45ebe39d4cb",
        "colab": {
          "base_uri": "https://localhost:8080/",
          "height": 105
        }
      },
      "source": [
        "# 產生可以讀寫的檔案\n",
        "! dmesg > dmessg.log\n",
        "! find / -name 'dmessg.log'\n",
        "#! cat /content/dmessg.log\n",
        "\n",
        "f = open('/content/dmessg.log')\n",
        "\n",
        "# readline 讀取太大的文件會浪費太多記憶體\n",
        "lines = f.readlines()\n",
        "print('f after readlines()會被清空成 list(f)=', list(f))\n",
        "print(lines[1:10]) ## 用列表的方法可以直接找第1到第10行的數據\n",
        "\n",
        "# 在python中可以使用islice 做切片\n",
        "# islice(iterable, [start], [stop]) # 到最後一行stop寫None\n",
        "from itertools import islice #itertools.islice\n",
        "f = open('/content/dmessg.log') # reandlines()完f = []\n",
        "y = []\n",
        "for _ in islice(f,1,10): # 取出第一行到第十行f的1～10元素就會被拿走了\n",
        "  y.append(_)\n",
        "  pass\n",
        "print(y)\n",
        "\n",
        "del y, f"
      ],
      "execution_count": 0,
      "outputs": [
        {
          "output_type": "stream",
          "text": [
            "/content/dmessg.log\n",
            "f after readlines()會被清空成 list(f)= []\n",
            "['[    0.000000] Command line: BOOT_IMAGE=/syslinux/vmlinuz.A init=/usr/lib/systemd/systemd boot=local rootwait ro noresume noswap loglevel=7 noinitrd console=ttyS0 vsyscall=emulate security=apparmor virtio_net.napi_tx=1 systemd.unified_cgroup_hierarchy=false systemd.legacy_systemd_cgroup_controller=true csm.disabled=1 dm_verity.error_behavior=3 dm_verity.max_bios=-1 dm_verity.dev_wait=1 i915.modeset=1 cros_efi root=/dev/dm-0 \"dm=1 vroot none ro 1,0 2539520 verity payload=PARTUUID=4F6824C1-420E-9C40-95DE-38D63D22A432 hashtree=PARTUUID=4F6824C1-420E-9C40-95DE-38D63D22A432 hashstart=2539520 alg=sha1 root_hexdigest=7a7f69e736ddf437b4b025fd84de3b57a92eb666 salt=a30f4c97724d6a89cc5ac162f6ef4f3129a43f7fa4e639f14c4573fcb3d48180\" mitigations=off\\n', \"[    0.000000] x86/fpu: Supporting XSAVE feature 0x001: 'x87 floating point registers'\\n\", \"[    0.000000] x86/fpu: Supporting XSAVE feature 0x002: 'SSE registers'\\n\", \"[    0.000000] x86/fpu: Supporting XSAVE feature 0x004: 'AVX registers'\\n\", '[    0.000000] x86/fpu: xstate_offset[2]:  576, xstate_sizes[2]:  256\\n', \"[    0.000000] x86/fpu: Enabled xstate features 0x7, context size is 832 bytes, using 'standard' format.\\n\", '[    0.000000] e820: BIOS-provided physical RAM map:\\n', '[    0.000000] BIOS-e820: [mem 0x0000000000000000-0x000000000009fbff] usable\\n', '[    0.000000] BIOS-e820: [mem 0x000000000009fc00-0x000000000009ffff] reserved\\n']\n",
            "['[    0.000000] Command line: BOOT_IMAGE=/syslinux/vmlinuz.A init=/usr/lib/systemd/systemd boot=local rootwait ro noresume noswap loglevel=7 noinitrd console=ttyS0 vsyscall=emulate security=apparmor virtio_net.napi_tx=1 systemd.unified_cgroup_hierarchy=false systemd.legacy_systemd_cgroup_controller=true csm.disabled=1 dm_verity.error_behavior=3 dm_verity.max_bios=-1 dm_verity.dev_wait=1 i915.modeset=1 cros_efi root=/dev/dm-0 \"dm=1 vroot none ro 1,0 2539520 verity payload=PARTUUID=4F6824C1-420E-9C40-95DE-38D63D22A432 hashtree=PARTUUID=4F6824C1-420E-9C40-95DE-38D63D22A432 hashstart=2539520 alg=sha1 root_hexdigest=7a7f69e736ddf437b4b025fd84de3b57a92eb666 salt=a30f4c97724d6a89cc5ac162f6ef4f3129a43f7fa4e639f14c4573fcb3d48180\" mitigations=off\\n', \"[    0.000000] x86/fpu: Supporting XSAVE feature 0x001: 'x87 floating point registers'\\n\", \"[    0.000000] x86/fpu: Supporting XSAVE feature 0x002: 'SSE registers'\\n\", \"[    0.000000] x86/fpu: Supporting XSAVE feature 0x004: 'AVX registers'\\n\", '[    0.000000] x86/fpu: xstate_offset[2]:  576, xstate_sizes[2]:  256\\n', \"[    0.000000] x86/fpu: Enabled xstate features 0x7, context size is 832 bytes, using 'standard' format.\\n\", '[    0.000000] e820: BIOS-provided physical RAM map:\\n', '[    0.000000] BIOS-e820: [mem 0x0000000000000000-0x000000000009fbff] usable\\n', '[    0.000000] BIOS-e820: [mem 0x000000000009fc00-0x000000000009ffff] reserved\\n']\n"
          ],
          "name": "stdout"
        }
      ]
    },
    {
      "cell_type": "markdown",
      "metadata": {
        "id": "sTErFYIYFTGA",
        "colab_type": "text"
      },
      "source": [
        "## 並行\n",
        "\n",
        "使用一個for疊代多個iterable物件\n",
        "\n",
        "- zip 把列表***並***起來\n",
        "- itertools.chain 把列表***串***起來"
      ]
    },
    {
      "cell_type": "code",
      "metadata": {
        "id": "_NDM8SY1L14h",
        "colab_type": "code",
        "outputId": "67654f52-8730-4e8e-8d38-f6abc9760683",
        "colab": {
          "base_uri": "https://localhost:8080/",
          "height": 102
        }
      },
      "source": [
        "!zip?\n",
        "# zip 把列表並起來\n",
        "x = zip([1,2,3,4],('a','b','c','d')) # 合併兩個列表\n",
        "y = zip([1,2,3,4],('a','b','c','d'),[7,8,9,10]) # 合併三個列表\n",
        "i = zip([1,2,3,4],('a','b','c')) # 列表len()不一樣合併\n",
        "print('按照順序抓元素合併包起來\\n'\n",
        "    ,'\\n合併2個列表: ',list(x) ,'\\n合併3個列表: ', list(y),\n",
        "      '\\n列表len()不一樣合併, 取最大公因數: ',list(i) )\n",
        "del x, y, i"
      ],
      "execution_count": 0,
      "outputs": [
        {
          "output_type": "stream",
          "text": [
            "按照順序抓元素合併包起來\n",
            " \n",
            "合併2個列表:  [(1, 'a'), (2, 'b'), (3, 'c'), (4, 'd')] \n",
            "合併3個列表:  [(1, 'a', 7), (2, 'b', 8), (3, 'c', 9), (4, 'd', 10)] \n",
            "列表len()不一樣合併, 取最大公因數:  [(1, 'a'), (2, 'b'), (3, 'c')]\n"
          ],
          "name": "stdout"
        }
      ]
    },
    {
      "cell_type": "code",
      "metadata": {
        "id": "j4BIgU1QFjNZ",
        "colab_type": "code",
        "colab": {}
      },
      "source": [
        "# zip 範例\n",
        "from random import randint\n",
        "\n",
        "# generating data\n",
        "math = [randint(60, 100) for _ in range(40)] # random the score\n",
        "  science = [randint(60, 100) for _ in range(40)]\n",
        "english = [randint(60, 100) for _ in range(40)]\n",
        "\n",
        "# 處理加總\n",
        "for i in range(len(math)):\n",
        "  math[i] + science[i] + english[i]\n",
        "  pass\n",
        "\n",
        "# 使用zip處理\n",
        "total=[] #加總\n",
        "for i,j,k in zip(math, science, english):\n",
        "  total.append(i+j+k)\n",
        "  pass\n",
        "\n",
        "del math, science, english, i, j, k"
      ],
      "execution_count": 0,
      "outputs": []
    },
    {
      "cell_type": "code",
      "metadata": {
        "id": "gQ59KYd6WyeN",
        "colab_type": "code",
        "outputId": "1398350c-1b7b-435a-f7dc-54082375efbc",
        "colab": {
          "base_uri": "https://localhost:8080/",
          "height": 51
        }
      },
      "source": [
        "# itertools.chain 把列表串起來\n",
        "from itertools import chain\n",
        "!chain?\n",
        "y = chain([1,2,3,4], ['a','b','c','d'])\n",
        "print(list(y))\n",
        "\n",
        "y = []\n",
        "for _ in chain([1,2,3,4], ['a','b','c','d']):\n",
        "  y.append(_)\n",
        "  pass\n",
        "print(y)\n",
        "\n",
        "del _, y, chain"
      ],
      "execution_count": 0,
      "outputs": [
        {
          "output_type": "stream",
          "text": [
            "[1, 2, 3, 4, 'a', 'b', 'c', 'd']\n",
            "[1, 2, 3, 4, 'a', 'b', 'c', 'd']\n"
          ],
          "name": "stdout"
        }
      ]
    },
    {
      "cell_type": "code",
      "metadata": {
        "id": "Zijm2v_iYq30",
        "colab_type": "code",
        "outputId": "a0099c42-f586-4065-c09b-a7130592095c",
        "colab": {
          "base_uri": "https://localhost:8080/",
          "height": 34
        }
      },
      "source": [
        "# 範例\n",
        "from itertools import chain\n",
        "e1 = [randint(60, 100) for _ in range(40)]\n",
        "e2 = [randint(60, 100) for _ in range(40)]\n",
        "e3 = [randint(60, 100) for _ in range(44)]\n",
        "e4 = [randint(60, 100) for _ in range(39)]\n",
        "\n",
        "# 找超過90分的數量\n",
        "count = 0\n",
        "for s in chain(e1,e2,e3,e4):\n",
        "  if s > 90:\n",
        "    count += 1\n",
        "    pass\n",
        "  pass\n",
        "    print('超過90分的數量: ', count)\n",
        "\n",
        "del count, s, e1, e2, e3, e4"
      ],
      "execution_count": 0,
      "outputs": [
        {
          "output_type": "stream",
          "text": [
            "超過90分的數量:  41\n"
          ],
          "name": "stdout"
        }
      ]
    },
    {
      "cell_type": "markdown",
      "metadata": {
        "id": "rBgG8jgiaHsX",
        "colab_type": "text"
      },
      "source": [
        "# Day 5"
      ]
    },
    {
      "cell_type": "markdown",
      "metadata": {
        "id": "0hQ57GDcaQeT",
        "colab_type": "text"
      },
      "source": [
        "## 字串拆分\n",
        "\n",
        "- 單一字串 `split()`\n",
        "- 多個字串 `re.split('正則表達式', str)`"
      ]
    },
    {
      "cell_type": "code",
      "metadata": {
        "id": "OkZ3ycjzaKK5",
        "colab_type": "code",
        "outputId": "ffd3319f-5cd0-4c34-a7d1-238459378b65",
        "colab": {
          "base_uri": "https://localhost:8080/",
          "height": 258
        }
      },
      "source": [
        "# 處理單一分隔符號\n",
        "\n",
        "# 產生可以讀寫的檔案\n",
        "#! ps aux > psAux.log\n",
        "#! find / -name 'psAux.log'\n",
        "#! cat /content/psAux.log.log\n",
        "# Linux中的CPU進程PID，系統目錄下面PROC執行中的程序會在上面\n",
        "!ps aux\n",
        "x = !ps aux \n",
        "s = x[-1] #取出x的最後一行\n",
        "\n",
        "print('\\n最後一行:\\n', s)\n",
        "print( '\\n以空格方式去分隔:\\n', s.split() )\n",
        "\n",
        "del s, x"
      ],
      "execution_count": 0,
      "outputs": [
        {
          "output_type": "stream",
          "text": [
            "USER         PID %CPU %MEM    VSZ   RSS TTY      STAT START   TIME COMMAND\n",
            "root           1  0.0  0.0  39196  6316 ?        Ss   08:17   0:00 /bin/bash -e \n",
            "root           8  0.0  0.4 682644 55076 ?        Sl   08:17   0:02 /tools/node/b\n",
            "root          23  0.1  0.7 402904 98392 ?        Sl   08:17   0:04 /usr/bin/pyth\n",
            "root         112  0.0  0.0  35884  4860 ?        Ss   08:17   0:00 tail -n +0 -F\n",
            "root         120  0.1  1.1 649712 155092 ?       Ssl  08:32   0:03 /usr/bin/pyth\n",
            "root         737  0.0  0.0  59028  6280 ?        R    09:05   0:00 ps aux\n",
            "\n",
            "最後一行:\n",
            " root         738  0.0  0.0  59032  6460 ?        R    09:05   0:00 ps aux\n",
            "\n",
            "以空格方式去分隔\n",
            " ['root', '738', '0.0', '0.0', '59032', '6460', '?', 'R', '09:05', '0:00', 'ps', 'aux']\n"
          ],
          "name": "stdout"
        }
      ]
    },
    {
      "cell_type": "markdown",
      "metadata": {
        "id": "jfjTZ-Q4Rh47",
        "colab_type": "text"
      },
      "source": [
        "## map\n",
        "\n",
        "[Python3 map() bug](https://stackoverflow.com/questions/18433488/non-lazy-evaluation-version-of-map-in-python3)\n",
        "\n",
        "在Function 裡面\n",
        "```\n",
        "map(lambda x: k.extend(x.split(_)), res) \n",
        "```\n",
        "\n",
        "要寫成\n",
        "\n",
        "```\n",
        "list( map(lambda x: k.extend(x.split(_)), res) )\n",
        "```"
      ]
    },
    {
      "cell_type": "code",
      "metadata": {
        "id": "Xi0GdaGFx5A-",
        "colab_type": "code",
        "outputId": "d0d66887-4f04-4565-c7fe-8339c66d9d60",
        "colab": {
          "base_uri": "https://localhost:8080/",
          "height": 34
        }
      },
      "source": [
        "# map(fcn, iterable)，用法跟filter很像\n",
        "# map: convert each item of an array, \n",
        "# filter: select certain items of an array.\n",
        "# filter 的fcn要返回True或是False判斷是否留下列表元素\n",
        "# map 則是對列表每個元素操作，返回\n",
        "!map?\n",
        "\n",
        "# 對每個列表元素做平方\n",
        "def square(x) :\n",
        "  return x ** 2\n",
        "\n",
        "k = map(square, [1,2,3,4,5])\n",
        "print(list(k))\n",
        "\n",
        "del k"
      ],
      "execution_count": 0,
      "outputs": [
        {
          "output_type": "stream",
          "text": [
            "[1, 4, 9, 16, 25]\n"
          ],
          "name": "stdout"
        }
      ]
    },
    {
      "cell_type": "code",
      "metadata": {
        "id": "j_W4kKMje0dT",
        "colab_type": "code",
        "outputId": "ba3e074d-5417-4b81-ea81-b1b24a187f39",
        "colab": {
          "base_uri": "https://localhost:8080/",
          "height": 272
        }
      },
      "source": [
        "a = ';/\\,|abcdefghijklmnopqrstuvwxyzABCD'\n",
        "print('使用亂數 a：', a)\n",
        "\n",
        "# 產生了亂數a，使用 ;/\\,| 分隔\n",
        "# 直接使用split的問題\n",
        "s = ';/\\,|'\n",
        "k = a.split(';'); \n",
        "\n",
        "print( \"\\n第一次拆完之後為二維列表無法直接再直接拆分 a.split(';'):\\n\", k)\n",
        "# k = k.split('/'); 不能繼續用同樣方法拆\n",
        "\n",
        "# map 再切一次 第二次拆分map完的結果list變得更難處理\n",
        "k = map(lambda x: x.split('/'), k) # k中的每個元素x拿出來回傳x.split(',')\n",
        "\n",
        "print('\\n第二次拆分map完的結果list變得更難處理\\n',\n",
        "      \"map(lambda x: x.split('/'), k):\\n\",list(k))\n",
        "\n",
        "# 第二次拆分map完的結果extend到新的list中\n",
        "k = []\n",
        "k = a.split(';'); \n",
        "map( lambda x: k.extend( x.split('/') ), k)\n",
        "\n",
        "print('\\n第二次拆分map完的結果extend到新的list中就解決了\\n',\n",
        "      \"map( lambda x: k.extend( x.split('/') ), k):\\n\",k)\n",
        "k = [x for x in k if x]\n",
        "print('濾除空字串\\n[x for x in k if x]\\n',k)\n",
        "\n",
        "del k, s, a"
      ],
      "execution_count": 0,
      "outputs": [
        {
          "output_type": "stream",
          "text": [
            "使用亂數 a： ;/\\,|abcdefghijklmnopqrstuvwxyzABCD\n",
            "\n",
            "第一次拆完之後為二維列表無法直接再直接拆分 a.split(';'):\n",
            " ['', '/\\\\,|abcdefghijklmnopqrstuvwxyzABCD']\n",
            "\n",
            "第二次拆分map完的結果list變得更難處理\n",
            " map(lambda x: x.split('/'), k):\n",
            " [[''], ['', '\\\\,|abcdefghijklmnopqrstuvwxyzABCD']]\n",
            "\n",
            "第二次拆分map完的結果extend到新的list中就解決了\n",
            " map( lambda x: k.extend( x.split('/') ), k):\n",
            " ['', '/\\\\,|abcdefghijklmnopqrstuvwxyzABCD']\n",
            "濾除空字串\n",
            "[x for x in k if x]\n",
            " ['/\\\\,|abcdefghijklmnopqrstuvwxyzABCD']\n"
          ],
          "name": "stdout"
        }
      ]
    },
    {
      "cell_type": "markdown",
      "metadata": {
        "id": "wWJJZn4rRz-B",
        "colab_type": "text"
      },
      "source": [
        "## split()拆分 vs re.split()正則表達式\n",
        "\n",
        "正則表達式（regulation expression）\n",
        "\n"
      ]
    },
    {
      "cell_type": "code",
      "metadata": {
        "id": "UWk8vn4p9HJs",
        "colab_type": "code",
        "outputId": "45745b8a-d893-4483-fad5-92e09e20c6de",
        "colab": {
          "base_uri": "https://localhost:8080/",
          "height": 51
        }
      },
      "source": [
        "# 亂數產生器\n",
        "from random import randint\n",
        "def makeSalt(lens):\n",
        "  strs = ';/\\,|abcdefghijklmnopqrstuvwxyzABCD'\n",
        "  salt = ''\n",
        "  for i in range(lens):\n",
        "    salt += strs[randint(0,31)]\n",
        "    pass\n",
        "  return salt\n",
        "  pass\n",
        "\n",
        "def mySplit(strs, salt):\n",
        "  res = [strs]\n",
        "  k = []\n",
        "  for _ in salt:\n",
        "    k = []\n",
        "    # python3 function裡面map()外要加上一個list()，不然不會動作\n",
        "    list( map(lambda x: k.extend(x.split(_)), res) )\n",
        "    res = k\n",
        "    pass\n",
        "  return [x for x in res if x] ##去除空字串\n",
        "\n",
        "sInput = makeSalt(35)\n",
        "sSalt = ';/\\,|'\n",
        "print( sInput,'\\n', mySplit(sInput, sSalt) )\n",
        "\n",
        "del sInput, sSalt, makeSalt"
      ],
      "execution_count": 0,
      "outputs": [
        {
          "output_type": "stream",
          "text": [
            "Ashy,ks\\bpd/;lpowvAlajsrwroqhpdlicn \n",
            " ['Ashy', 'ks', 'bpd', 'lpowvAlajsrwroqhpdlicn']\n"
          ],
          "name": "stdout"
        }
      ]
    },
    {
      "cell_type": "code",
      "metadata": {
        "id": "b3W_bobYSOep",
        "colab_type": "code",
        "outputId": "67f3d73b-48a7-4535-d336-903be50c92ea",
        "colab": {
          "base_uri": "https://localhost:8080/",
          "height": 85
        }
      },
      "source": [
        "# 亂數產生器\n",
        "from random import randint\n",
        "def makeSalt(lens):\n",
        "  strs = ';/\\,|abcdefghijklmnopqrstuvwxyzABCD'\n",
        "  salt = ''\n",
        "  for i in range(lens):\n",
        "    salt += strs[randint(0,31)]\n",
        "    pass\n",
        "  return salt\n",
        "  pass\n",
        "\n",
        "import re # 正則表達式\n",
        "!re.split?\n",
        "sInput = makeSalt(35)\n",
        "sSalt = ';/\\,|'\n",
        "print( sInput,\"\\n\\n直接用 re.split(r'[;\\,/|]+', sInput):\\n\",re.split(r'[;\\,/|]+', sInput))\n",
        "\n",
        "del sInput, sSalt, makeSalt, randint"
      ],
      "execution_count": 0,
      "outputs": [
        {
          "output_type": "stream",
          "text": [
            "sumjtjagic|kftpgi;ggkfoq/\\|j,zrAry; \n",
            "\n",
            "直接用 re.split(r'[;\\,/|]+', sInput):\n",
            " ['sumjtjagic', 'kftpgi', 'ggkfoq', '\\\\', 'j', 'zrAry', '']\n"
          ],
          "name": "stdout"
        }
      ]
    },
    {
      "cell_type": "markdown",
      "metadata": {
        "id": "McgFAo016YHY",
        "colab_type": "text"
      },
      "source": [
        "## 判斷字串開頭結尾字符\n",
        "\n",
        "bassic2.ipynb 從這裡開始繼續下個檔案會重新說過\n",
        "\n",
        "`char.startswith()`、`char.endswith()`，只能傳入字串或是元組"
      ]
    },
    {
      "cell_type": "code",
      "metadata": {
        "id": "50R5yg2L6ZOQ",
        "colab_type": "code",
        "outputId": "1f988767-d0f6-422d-b376-5586852a73ae",
        "colab": {
          "base_uri": "https://localhost:8080/",
          "height": 156
        }
      },
      "source": [
        "#!ls -lh sample_data\n",
        "import os\n",
        "k = os.listdir('sample_data')\n",
        "\n",
        "# char.startswith()、char.endswith()\n",
        "s = 'california_housing_test.csv'\n",
        "\n",
        "print(\"s =\", s)\n",
        "print(\"s.endswith('.csv') =>\", s.endswith('.csv') )\n",
        "print(\"s.endswith('.py') =>\",s.endswith('.py'),'\\n' )\n",
        "\n",
        "# 所以可以寫成\n",
        "s =[name for name in k if name.endswith( ('.md', '.json'))]\n",
        "# 輸出name（最前面的），for name in k，if判斷k的第name個元素endswith（（'', '',''））\n",
        "print('os.listdir(): \\n',k)\n",
        "print(\"濾出 *.md  *.json :\\n\",s)\n",
        "\n",
        "\n",
        "del k, s, os"
      ],
      "execution_count": 0,
      "outputs": [
        {
          "output_type": "stream",
          "text": [
            "s = california_housing_test.csv\n",
            "s.endswith('.csv') => True\n",
            "s.endswith('.py') => False \n",
            "\n",
            "os.listdir(): \n",
            " ['anscombe.json', 'README.md', 'mnist_test.csv', 'california_housing_test.csv', 'mnist_train_small.csv', 'california_housing_train.csv']\n",
            "濾出 *.md  *.json :\n",
            " ['anscombe.json', 'README.md']\n"
          ],
          "name": "stdout"
        }
      ]
    },
    {
      "cell_type": "code",
      "metadata": {
        "id": "qp9Ubs41M2j5",
        "colab_type": "code",
        "colab": {}
      },
      "source": [
        "# 把 *.txt 檔案全部改成 *.m 的格式\n",
        "import os\n",
        "path = './'\n",
        "f = os.listdir(path)\n",
        "out = [x for x in f if x.endswith('.txt')]\n",
        "\n",
        "n = 0; i = 0\n",
        "for i in out:\n",
        "    # 設定舊檔名（就是路徑+檔名）\n",
        "    oldname = out[n]\n",
        "    k = len(out[n])-4\n",
        "    # 設定新檔名\n",
        "    newname = out[n][0:k] + '.m'\n",
        "    # 用os模組中的rename方法對檔案改名\n",
        "    os.rename(path+oldname, path+newname)\n",
        "    print(oldname, '======>', newname)\n",
        "    n += 1\n",
        "    pass\n"
      ],
      "execution_count": 0,
      "outputs": []
    },
    {
      "cell_type": "code",
      "metadata": {
        "id": "VPpk5yBOuHa9",
        "colab_type": "code",
        "outputId": "6a0e0367-b5a9-4218-b351-74a6b806b1ea",
        "colab": {
          "base_uri": "https://localhost:8080/",
          "height": 141
        }
      },
      "source": [
        "#!ls -lh sample_data\n",
        "import os, stat # stat是掩碼庫\n",
        "k = os.stat('sample_data/README.md')\n",
        "print('資料：\\n',k)\n",
        "k = os.stat('sample_data/README.md').st_mode # oct 八進制\n",
        "print('掩碼：\\n',k)\n",
        "k = oct(k)\n",
        "print('權限知道權限755: \\n',k)\n",
        "\n",
        "# 修改Linux權限\n",
        "# stat.S_IXUSR 掩碼AND權限 => 權限755, 最上面的group會加上可執行權限(x,rwx)\n",
        "\n",
        "# os.chmod('sample_data/README.md', os.stat('sample_data/README.md').st_mode | stat.S_IXUSR)\n",
        "\n",
        "del k, os, stat"
      ],
      "execution_count": 0,
      "outputs": [
        {
          "output_type": "stream",
          "text": [
            "資料：\n",
            " os.stat_result(st_mode=33261, st_ino=1704011, st_dev=46, st_nlink=1, st_uid=0, st_gid=0, st_size=930, st_atime=946684800, st_mtime=946684800, st_ctime=1571934793)\n",
            "掩碼：\n",
            " 33261\n",
            "權限知道權限755: \n",
            " 0o100755\n"
          ],
          "name": "stdout"
        }
      ]
    }
  ]
}