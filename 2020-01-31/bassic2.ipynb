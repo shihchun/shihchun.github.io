{
 "cells": [
  {
   "cell_type": "markdown",
   "metadata": {
    "colab_type": "text",
    "id": "RnHwDTWqEcGT"
   },
   "source": [
    "## 判斷字串\n",
    "\n",
    "可傳入元組\n",
    "- str.startwith() \n",
    "- str.endwith()"
   ]
  },
  {
   "cell_type": "code",
   "execution_count": 0,
   "metadata": {
    "colab": {
     "base_uri": "https://localhost:8080/",
     "height": 136
    },
    "colab_type": "code",
    "id": "_rDsxJsSETQG",
    "outputId": "26e92bb0-e614-4a66-b64a-f891162b8e4d"
   },
   "outputs": [
    {
     "name": "stdout",
     "output_type": "stream",
     "text": [
      "total 0\n",
      "-rw-r--r-- 1 root root 0 Nov 10 11:47 a.sh\n",
      "-rw-r--r-- 1 root root 0 Nov 10 11:47 b.py\n",
      "-rw-r--r-- 1 root root 0 Nov 10 11:47 c.h\n",
      "-rw-r--r-- 1 root root 0 Nov 10 11:47 d.java\n",
      "-rw-r--r-- 1 root root 0 Nov 10 11:47 e.py\n",
      "-rw-r--r-- 1 root root 0 Nov 10 11:47 f.cpp\n"
     ]
    }
   ],
   "source": [
    "# generate testing dir file\n",
    "!if [ -d \"test\" ]; then rm -rf test;  fi\n",
    "! mkdir test && cd test && touch a.sh b.py c.h d.java e.py f.cpp  && ls -lh"
   ]
  },
  {
   "cell_type": "code",
   "execution_count": 0,
   "metadata": {
    "colab": {
     "base_uri": "https://localhost:8080/",
     "height": 85
    },
    "colab_type": "code",
    "id": "HRLLxhJfTkYX",
    "outputId": "973c39bb-0e8b-4de3-a91e-d1fac2995466"
   },
   "outputs": [
    {
     "name": "stdout",
     "output_type": "stream",
     "text": [
      "s = 'g.sh', s.endswith:  True\n",
      "\n",
      "列表comprehension, \n",
      " [ name for name in os.listdir('./test') if name.endswith(('.sh', '.py')) ])\n"
     ]
    }
   ],
   "source": [
    "import os, stat\n",
    "os.listdir('./test')\n",
    "\n",
    "s = 'g.sh'\n",
    "print( \"s = 'g.sh', s.endswith: \",s.endswith('.sh') )\n",
    "\n",
    "# 篩選\n",
    "print(\"\\n列表comprehension, \\n [ name for name in os.listdir('./test') if name.endswith(('.sh', '.py')) ])\")\n",
    "[ name for name in os.listdir('./test') if name.endswith(('.sh', '.py'))]\n",
    "\n",
    "del s, os, stat"
   ]
  },
  {
   "cell_type": "markdown",
   "metadata": {
    "colab_type": "text",
    "id": "45YFw_K2L_vL"
   },
   "source": [
    "## 修改權限\n",
    "\n",
    "修改成其他權限可參考\n",
    "- os.stat('filepath')\n",
    "- os.stat('filepath').st_mode\n",
    "- os.chmod('file', os.stat('file').st_mode | stat.S_IXUSR )\n",
    "\n",
    "os.chmod(檔案路徑, 檔案的stat與掩碼做OR的結果)\n",
    "\n",
    "[python stat doc](https://docs.python.org/2/library/stat.html)\n"
   ]
  },
  {
   "cell_type": "code",
   "execution_count": 0,
   "metadata": {
    "colab": {
     "base_uri": "https://localhost:8080/",
     "height": 173
    },
    "colab_type": "code",
    "id": "xTtHjHOIEeEY",
    "outputId": "4b6f56c3-8d8a-4071-a5d0-019ec0c4d869"
   },
   "outputs": [
    {
     "name": "stdout",
     "output_type": "stream",
     "text": [
      "\n",
      "os.stat:\n",
      "os.stat_result(st_mode=33188, st_ino=1457929, st_dev=46, st_nlink=1, st_uid=0, st_gid=0, st_size=0, st_atime=1573386435, st_mtime=1573386435, st_ctime=1573386435)\n",
      "os.stat.st_mode: 33188 => 這個是二進制數值\n",
      "轉換成八進制oct(): 0o100644 =>看得出來是644的權限（user gourp other三位元權限u+g+o）\n",
      " 每個用戶組分別有read-write-execute 可執行、可讀、可寫三種權限，基本Linux\n",
      "-rw-r--r-- 1 root root 0 Nov 10 11:47 e.py\n",
      "-rwxr--r-- 1 root root 0 Nov 10 11:47 e.py\n"
     ]
    }
   ],
   "source": [
    "import os, stat\n",
    "os.listdir('./test')\n",
    "\n",
    "# 修改執行權限 755 644 使用遮罩掩碼做OR去改\n",
    "os.stat('./test/e.py')\n",
    "os.stat('./test/e.py').st_mode\n",
    "print(\"\\nos.stat:\\n%s\\nos.stat.st_mode: %s => 這個是二進制數值\\n轉換成八進制oct(): %s =>看得出來是644的權限（user gourp other三位元權限u+g+o）\\n\" \n",
    "      % ( os.stat('./test/e.py'),os.stat('./test/e.py').st_mode , oct(os.stat('./test/e.py').st_mode)), \n",
    "      \"每個用戶組分別有read-write-execute 可執行、可讀、可寫三種權限，基本Linux\"\n",
    "       )\n",
    "\n",
    "!ls -lh ./test | grep \"e.py\"\n",
    "os.chmod('./test/e.py', os.stat('./test/e.py').st_mode | stat.S_IXUSR )\n",
    "!ls -lh ./test | grep \"e.py\"\n",
    "\n",
    "del os, stat"
   ]
  },
  {
   "cell_type": "markdown",
   "metadata": {
    "colab_type": "text",
    "id": "VuwN9qHFP56f"
   },
   "source": [
    "## 替換文檔格式，格式處理\n",
    "\n",
    "使用正則表達式，進行處理\n",
    "\n",
    "替換\n",
    "\n",
    "- re.sub()"
   ]
  },
  {
   "cell_type": "code",
   "execution_count": 0,
   "metadata": {
    "colab": {
     "base_uri": "https://localhost:8080/",
     "height": 1000
    },
    "colab_type": "code",
    "id": "ma77sVO7OWC6",
    "outputId": "2ec202cc-33db-4033-be38-2081beaed24a"
   },
   "outputs": [
    {
     "name": "stdout",
     "output_type": "stream",
     "text": [
      "看前十個資料，要改變日期格式\n",
      "\n",
      "用python\n",
      "2019-08-07 13:02:51 startup archives install\n",
      "2019-08-07 13:02:51 status installed base-passwd:amd64 3.5.44\n",
      "2019-08-07 13:02:51 status half-configured base-passwd:amd64 3.5.44\n",
      "2019-08-07 13:02:51 status unpacked base-passwd:amd64 3.5.44\n",
      "2019-08-07 13:02:51 configure base-passwd:amd64 3.5.44 3.5.44\n",
      "2019-08-07 13:02:51 status unpacked base-passwd:amd64 3.5.44\n",
      "2019-08-07 13:02:51 status unpacked base-passwd:amd64 3.5.44\n",
      "2019-08-07 13:02:51 status half-installed base-passwd:amd64 3.5.44\n",
      "2019-08-07 13:02:51 install base-passwd:amd64 <none> 3.5.44\n",
      "2019-08-07 13:02:51 startup archives install\n",
      "\n",
      "\n",
      "a: \u0001': \n",
      "\u0001 13:02:51 startup archives install\n",
      "\u0001 13:02:51 status installed base-passwd:amd64 3.5.44\n",
      "\u0001 13:02:51 status half-configured base-passwd:amd64 3.5.44\n",
      "\u0001 13:02:51 status unpacked base-passwd:amd64 3.5.44\n",
      "\u0001 13:02:51 configure base-passwd:amd64 3.5.44 3.5.44\n",
      "\u0001 13:02:51 status unpacked base-passwd:amd64 3.5.44\n",
      "\u0001 13:02:51 status unpacked base-passwd:amd64 3.5.44\n",
      "\u0001 13:02:51 status half-installed base-passwd:amd64 3.5.44\n",
      "\u0001 13:02:51 install base-passwd:amd64 <none> 3.5.44\n",
      "\u0001 13:02:51 startup archives install\n",
      " \n",
      "b: '\u0001\u0002': \n",
      "\u0001-\u0002 13:02:51 startup archives install\n",
      "\u0001-\u0002 13:02:51 status installed base-passwd:amd64 3.5.44\n",
      "\u0001-\u0002 13:02:51 status half-configured base-passwd:amd64 3.5.44\n",
      "\u0001-\u0002 13:02:51 status unpacked base-passwd:amd64 3.5.44\n",
      "\u0001-\u0002 13:02:51 configure base-passwd:amd64 3.5.44 3.5.44\n",
      "\u0001-\u0002 13:02:51 status unpacked base-passwd:amd64 3.5.44\n",
      "\u0001-\u0002 13:02:51 status unpacked base-passwd:amd64 3.5.44\n",
      "\u0001-\u0002 13:02:51 status half-installed base-passwd:amd64 3.5.44\n",
      "\u0001-\u0002 13:02:51 install base-passwd:amd64 <none> 3.5.44\n",
      "\u0001-\u0002 13:02:51 startup archives install\n",
      " \n",
      "c: 使用原始字串的話長度不會因爲正規改變(可能會像是a、b一樣有格式問題)r'\u0001\u0002': \n",
      "2019-08 13:02:51 startup archives install\n",
      "2019-08 13:02:51 status installed base-passwd:amd64 3.5.44\n",
      "2019-08 13:02:51 status half-configured base-passwd:amd64 3.5.44\n",
      "2019-08 13:02:51 status unpacked base-passwd:amd64 3.5.44\n",
      "2019-08 13:02:51 configure base-passwd:amd64 3.5.44 3.5.44\n",
      "2019-08 13:02:51 status unpacked base-passwd:amd64 3.5.44\n",
      "2019-08 13:02:51 status unpacked base-passwd:amd64 3.5.44\n",
      "2019-08 13:02:51 status half-installed base-passwd:amd64 3.5.44\n",
      "2019-08 13:02:51 install base-passwd:amd64 <none> 3.5.44\n",
      "2019-08 13:02:51 startup archives install\n",
      " \n",
      "\n",
      "d:  r'\u0002/\u0003/\u0001': \n",
      "08/07/2019 13:02:51 startup archives install\n",
      "08/07/2019 13:02:51 status installed base-passwd:amd64 3.5.44\n",
      "08/07/2019 13:02:51 status half-configured base-passwd:amd64 3.5.44\n",
      "08/07/2019 13:02:51 status unpacked base-passwd:amd64 3.5.44\n",
      "08/07/2019 13:02:51 configure base-passwd:amd64 3.5.44 3.5.44\n",
      "08/07/2019 13:02:51 status unpacked base-passwd:amd64 3.5.44\n",
      "08/07/2019 13:02:51 status unpacked base-passwd:amd64 3.5.44\n",
      "08/07/2019 13:02:51 status half-installed base-passwd:amd64 3.5.44\n",
      "08/07/2019 13:02:51 install base-passwd:amd64 <none> 3.5.44\n",
      "08/07/2019 13:02:51 startup archives install\n",
      " \n",
      "\n",
      "d: 每個組( ?P<name>\\d{} ), 然後建構就用\\g<name>: \n",
      "08/07/2019 13:02:51 startup archives install\n",
      "08/07/2019 13:02:51 status installed base-passwd:amd64 3.5.44\n",
      "08/07/2019 13:02:51 status half-configured base-passwd:amd64 3.5.44\n",
      "08/07/2019 13:02:51 status unpacked base-passwd:amd64 3.5.44\n",
      "08/07/2019 13:02:51 configure base-passwd:amd64 3.5.44 3.5.44\n",
      "08/07/2019 13:02:51 status unpacked base-passwd:amd64 3.5.44\n",
      "08/07/2019 13:02:51 status unpacked base-passwd:amd64 3.5.44\n",
      "08/07/2019 13:02:51 status half-installed base-passwd:amd64 3.5.44\n",
      "08/07/2019 13:02:51 install base-passwd:amd64 <none> 3.5.44\n",
      "08/07/2019 13:02:51 startup archives install\n",
      " \n"
     ]
    }
   ],
   "source": [
    "# !find / -name dpkg.log # /var/log/dpkg.log\n",
    "# !cat /var/log/dpkg.log | less #more\n",
    "print('看前十個資料，要改變日期格式')\n",
    "!if [ -d \"test\" ]; then rm -rf test; mkdir test; fi\n",
    "!cat /var/log/dpkg.log >> ./test/dpkg.log\n",
    "# !head 10 ./test/dpkg.log\n",
    "print('\\n用python')\n",
    "# log = open('/var/log/dpkg.log').read() # readall\n",
    "log = open('/var/log/dpkg.log') #.readline() 執行一次迭代器+1 讀出一行\n",
    "y = ''\n",
    "for i in range(10):\n",
    "  #x = log.readline().rstrip(\"\\n\") # print 會自動加入 \\n\n",
    "  x = log.readline()\n",
    "  y = x + y\n",
    "  pass\n",
    "print(y)\n",
    "\n",
    "import re # 正則表達式\n",
    "#!re.sub?\n",
    "# 描述日期格式 \\d{4} \\d{2} \\d{2} 用()把三組圈起來\n",
    "a = re.sub('(\\d{4})-(\\d{2})-(\\d{2})', '\\1' , y)\n",
    "# '\\1\\2' 表示第一組跟第二組\n",
    "b = re.sub('(\\d{4})-(\\d{2})-(\\d{2})', '\\1-\\2' , y)\n",
    "# r'\\1\\2' 原始字串\n",
    "c = re.sub('(\\d{4})-(\\d{2})-(\\d{2})', r'\\1-\\2' , y)\n",
    "print( \"\\na: \\1': \\n%s \\nb: '\\1\\2': \\n%s \\nc: 使用原始字串的話長度不會因爲正規改變(可能會像是a、b一樣有格式問題)r'\\1\\2': \\n%s \"\n",
    " % (a,b,c)\n",
    "  )\n",
    "# 知道上面就可以知道 ==> r'\\2 / \\3 / \\1' 三組之間用/隔開\n",
    "d = re.sub('(\\d{4})-(\\d{2})-(\\d{2})', r'\\2/\\3/\\1' , y)\n",
    "print(\"\\nd:  r'\\2/\\3/\\1': \\n%s \" % d)\n",
    "\n",
    "# 可以對每個組定義名稱一樣的結果可以寫成下面 每個組( ?P<name>\\d{} ), 然後建構就用\\g<name>\n",
    "e = re.sub('(?P<year>\\d{4})-(?P<month>\\d{2})-(?P<day>\\d{2})', r'\\g<month>/\\g<day>/\\g<year>' , y)\n",
    "print(\"\\nd: 每個組( ?P<name>\\d{} ), 然後建構就用\\g<name>: \\n%s \" % e)\n",
    "del a,b,c,d,e,re,x,y\n"
   ]
  },
  {
   "cell_type": "markdown",
   "metadata": {
    "colab_type": "text",
    "id": "t8CUXANVlENe"
   },
   "source": [
    "## 字串拼接\n",
    "\n",
    "- '+'\n",
    "- ‘分隔符號’.join(list) ：list可以是comprehension\n"
   ]
  },
  {
   "cell_type": "code",
   "execution_count": 0,
   "metadata": {
    "colab": {
     "base_uri": "https://localhost:8080/",
     "height": 119
    },
    "colab_type": "code",
    "id": "a9bWaMbkkrn3",
    "outputId": "6192d1d2-4083-47b4-a75a-8a6bf11758c4"
   },
   "outputs": [
    {
     "name": "stdout",
     "output_type": "stream",
     "text": [
      "s = s1 + s2 '+' ： abcdefg12345\n",
      "str.__add__(s1,s2) :abcdefg12345\n",
      "s1 > s2: True\n",
      "str.__gt__(s1,s2): True\n",
      "''.join(pl): <0112><32><1024x768><60><1><100.0><500.0> \n",
      " ';'.join(pl): <0112>;<32>;<1024x768>;<60>;<1>;<100.0>;<500.0> \n"
     ]
    }
   ],
   "source": [
    "s1 = 'abcdefg'\n",
    "s2 = '12345'\n",
    "# 拼起來\n",
    "print (\"s = s1 + s2 '+' ： %s\" %s1+s2 )\n",
    "print(\"str.__add__(s1,s2) :%s\" %str.__add__(s1,s2) )\n",
    "print(\"s1 > s2: %s\" % (s1>s2) )\n",
    "print(\"str.__gt__(s1,s2): %s\" %(str.__gt__(s1,s2)) )\n",
    "\n",
    "pl = [\"<0112>\", \"<32>\", \"<1024x768>\", \"<60>\", \"<1>\", \"<100.0>\", \"<500.0>\"]\n",
    "s = ''\n",
    "for _ in pl: ## 列表很長會有記憶體浪費\n",
    "  s+=_\n",
    "  pass\n",
    "\n",
    "''.join(pl) ## 這會比較好 (以空字串分隔)\n",
    "\n",
    "print(\"''.join(pl): %s \\n ';'.join(pl): %s \" %(''.join(pl), ';'.join(pl)))\n",
    "\n",
    "# 使用列表\n",
    "''.join([str(x) for x in pl]) # 列表[]會創建列表到記憶體\n",
    "''.join(str(x) for x in pl) # 產生器這個比較好\n",
    "\n",
    "del s1,s2,pl     "
   ]
  },
  {
   "cell_type": "markdown",
   "metadata": {
    "colab_type": "text",
    "id": "xlkvyXOppL3h"
   },
   "source": [
    "## 對齊字串\n",
    "\n",
    "- str.ljust(), str.rjust(), str.center() 左右中對齊\n",
    "- format(,<>^) print 字典的時候也可以用"
   ]
  },
  {
   "cell_type": "code",
   "execution_count": 0,
   "metadata": {
    "colab": {
     "base_uri": "https://localhost:8080/",
     "height": 391
    },
    "colab_type": "code",
    "id": "1ad44vvkpLeD",
    "outputId": "dc8d2787-81c0-45a8-bc78-25c6d0a94930"
   },
   "outputs": [
    {
     "name": "stdout",
     "output_type": "stream",
     "text": [
      "\n",
      "ljust(): \n",
      "abc=================\n",
      "rjust(): \n",
      "=================abc\n",
      "center(): \n",
      "========abc=========\n",
      "\n",
      "format(s, '<20'): \n",
      "abc                 \n",
      "format(s, '>20'): \n",
      "                 abc\n",
      "format(s, '^20'): \n",
      "        abc         \n",
      "\n",
      "對齊字典\n",
      "\n",
      "lodDict   : 100.0\n",
      "SmallCull : 0.04\n",
      "DistCull  : 500.0\n",
      "trilinear : 40\n",
      "farclip   : 477\n"
     ]
    }
   ],
   "source": [
    "s = 'abc'\n",
    "a = s.ljust(20,'=')\n",
    "b = s.rjust(20,'=')\n",
    "c = s.center(20,'=')\n",
    "print(\"\\nljust(): \\n%s\\nrjust(): \\n%s\\ncenter(): \\n%s\" %(a,b,c))\n",
    "\n",
    "a = format(s, '<20')\n",
    "b = format(s, '>20')\n",
    "c = format(s, '^20')\n",
    "print(\"\\nformat(s, '<20'): \\n%s\\nformat(s, '>20'): \\n%s\\nformat(s, '^20'): \\n%s\" %(a,b,c))\n",
    "d = {\n",
    "    \"lodDict\":100.0,\n",
    "     \"SmallCull\": 0.04,\n",
    "     \"DistCull\": 500.0,\n",
    "     \"trilinear\": 40,\n",
    "     \"farclip\": 477\n",
    "}\n",
    "d.keys()\n",
    "map(len, d.keys())\n",
    "max(map(len,d.keys()))\n",
    "w = max(map(len,d.keys()))\n",
    "print(\"\\n對齊字典\\n\")\n",
    "for k in d: #到冒號之前對齊，用最長的長度w去對齊\n",
    "  print( k.ljust(w),':',d[k])\n",
    "  pass\n",
    "del a,b,c,d,w,s"
   ]
  },
  {
   "cell_type": "markdown",
   "metadata": {
    "colab_type": "text",
    "id": "UBoE4KweE54_"
   },
   "source": [
    "## 字串去除\n",
    "- strip()、lstrip()、rstrip()\n",
    "- '+'、[:end]\n",
    "- replace()\n",
    "- replace()、re.sub\n",
    "- translate()"
   ]
  },
  {
   "cell_type": "code",
   "execution_count": 0,
   "metadata": {
    "colab": {
     "base_uri": "https://localhost:8080/",
     "height": 102
    },
    "colab_type": "code",
    "id": "GIbr-wm7E6Bv",
    "outputId": "bbc0b784-8b56-4604-afd6-86097a9dc923"
   },
   "outputs": [
    {
     "name": "stdout",
     "output_type": "stream",
     "text": [
      " s:     ======abc ++ 123   --    \n",
      " s.strip() 除掉兩邊空白: ======abc ++ 123   -- \n",
      " s.strip() 除掉左邊空白: ======abc ++ 123   --    \n",
      " s.strip() 除掉右邊邊空白:     ======abc ++ 123   --\n",
      " s.strip().strip('-=') 去除前後空白再去處前後-=: abc ++ 123   \n"
     ]
    }
   ],
   "source": [
    "#  strip() lstrip() rstrip()\n",
    "s = '    ======abc ++ 123   --   '\n",
    "a = s.strip()\n",
    "b = s.lstrip()\n",
    "c = s.rstrip()\n",
    "print( \" s: %s\" %s, \"\\n s.strip() 除掉兩邊空白: %s \\n s.strip() 除掉左邊空白: %s \\n s.strip() 除掉右邊邊空白: %s\" %(a,b,c))\n",
    "\n",
    "d = s.strip().strip('-=')\n",
    "print(\" s.strip().strip('-=') 去除前後空白再去處前後-=: %s\" %d)\n",
    "\n",
    "del a,b,c,d,s"
   ]
  },
  {
   "cell_type": "code",
   "execution_count": 0,
   "metadata": {
    "colab": {
     "base_uri": "https://localhost:8080/",
     "height": 51
    },
    "colab_type": "code",
    "id": "fur8hZsbICpq",
    "outputId": "014fccce-7973-43b0-bdfa-c14b1afb998a"
   },
   "outputs": [
    {
     "name": "stdout",
     "output_type": "stream",
     "text": [
      "s: abc:123 \n",
      " s[:3] + s[4:]: abc123\n"
     ]
    }
   ],
   "source": [
    "s = 'abc:123'\n",
    "a = s[:3] + s[4:]\n",
    "print(\"s: %s \\n s[:3] + s[4:]: %s\" %(s,a)); del s,a"
   ]
  },
  {
   "cell_type": "code",
   "execution_count": 0,
   "metadata": {
    "colab": {
     "base_uri": "https://localhost:8080/",
     "height": 68
    },
    "colab_type": "code",
    "id": "quxrJxy9KoPu",
    "outputId": "2f466c8e-2c7f-4795-8723-9dd13183be53"
   },
   "outputs": [
    {
     "name": "stdout",
     "output_type": "stream",
     "text": [
      "s: \tabc\t123\txyz\r",
      "opq\r",
      " \n",
      " s.replace('\t', ''): abc123xyz\r",
      "opq\r",
      " \n",
      " re.sub('[\t\r",
      "]', '', s): abc123xyzopq\n"
     ]
    }
   ],
   "source": [
    "# replace() re.sub() '\\' print 不太出來\n",
    "s = \"\\tabc\\t123\\txyz\\ropq\\r\"\n",
    "a = s.replace('\\t', '')\n",
    "import re\n",
    "b = re.sub('[\\t\\r]', '', s)\n",
    "print(\"s: %s \\n s.replace('\\t', ''): %s \\n re.sub('[\\t\\r]', '', s): %s\" \n",
    "      %(s,a,b)); del s,a,b"
   ]
  },
  {
   "cell_type": "code",
   "execution_count": 0,
   "metadata": {
    "colab": {
     "base_uri": "https://localhost:8080/",
     "height": 68
    },
    "colab_type": "code",
    "id": "-7aQg7p8LeMW",
    "outputId": "7cd12b0d-ee4f-4a44-eaea-f4cad9d531d5"
   },
   "outputs": [
    {
     "name": "stdout",
     "output_type": "stream",
     "text": [
      " s: abc1230323xyz \n",
      " mapping: {97: 120, 98: 121, 99: 122, 120: 97, 121: 98, 122: 99} \n",
      " 轉換結果： xyz1230323abc\n"
     ]
    }
   ],
   "source": [
    "# str.translate() unicode.translate()\n",
    "s = 'abc1230323xyz'\n",
    "# 假設有一個加密是將上面abc->xyz，xyz->abc\n",
    "import string\n",
    "a = s.maketrans('abcxyz', 'xyzabc') # 產生mapping 映射表\n",
    "b = s.translate(a)\n",
    "print(' s:',s,'\\n mapping:',a,'\\n 轉換結果：',b)"
   ]
  }
 ],
 "metadata": {
  "colab": {
   "collapsed_sections": [],
   "name": "bassic2.ipynb",
   "provenance": [],
   "toc_visible": true
  },
  "kernelspec": {
   "display_name": "Python 3",
   "language": "python",
   "name": "python3"
  },
  "language_info": {
   "codemirror_mode": {
    "name": "ipython",
    "version": 3
   },
   "file_extension": ".py",
   "mimetype": "text/x-python",
   "name": "python",
   "nbconvert_exporter": "python",
   "pygments_lexer": "ipython3",
   "version": "3.8.1"
  }
 },
 "nbformat": 4,
 "nbformat_minor": 1
}
